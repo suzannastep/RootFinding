{
 "cells": [
  {
   "cell_type": "markdown",
   "metadata": {},
   "source": [
    "<h1 align=\"center\">YRoots</h1>\n",
    "\n",
    "YRoots is a numerical rootfinding package which can be used to solve multivariate systems of nonlinear equations, like those arising from optimization problems in finding critical points. While other rootfinders exist, YRoots is unique in that it finds all the roots in a compact interval.\n",
    "\n",
    "Download YRoots from github to begin using the package.\n",
    "\n",
    "  ```git\n",
    "      git clone https://github.com/tylerjarvis/RootFinding/tree/master   \n",
    "  ```\n",
    "  \n",
    "We demonstrate here how to use YRoots."
   ]
  },
  {
   "cell_type": "code",
   "execution_count": 1,
   "metadata": {},
   "outputs": [],
   "source": [
    "#imports\n",
    "import numpy as np\n",
    "import yroots as yr\n",
    "\n",
    "#plotting tools\n",
    "%matplotlib inline\n",
    "from matplotlib import pyplot as plt\n",
    "from mpl_toolkits.mplot3d import Axes3D\n",
    "\n",
    "#autoreload\n",
    "%load_ext autoreload\n",
    "%autoreload 2"
   ]
  },
  {
   "cell_type": "markdown",
   "metadata": {},
   "source": [
    "## Multivariate Functions\n",
    "\n",
    "To find the commmon zeros of a set of multivariate functions, input a list of functions and a search interval. The syntax for this is:\n",
    "\n",
    "```python\n",
    "yr.solve(funcs, a, b)\n",
    "```\n",
    "\n",
    "where `funcs` is a list of $n$ **vectorized** functions in $n$ variables and `a` and `b` are array-like objects of upper and lower bounds (respectively) of the search domain in each dimension. For bivariate systems, the optional parameter `plot` allows the user to graph the zero-loci and roots of the functions. The parameter `polish` can improve the accuracy for multivariate systems.\n",
    "\n",
    "YRoots returns a numpy array where each row is a root."
   ]
  },
  {
   "cell_type": "markdown",
   "metadata": {},
   "source": [
    "### Two variables\n",
    "Here is an example of YRoots solving the bivariate system of equations\n",
    "\n",
    "$$0 = \\sin(xy) + x\\log(y+3) - x^2 + \\frac{1}{y-4}$$\n",
    "$$6 = \\cos(3xy) + e^{\\frac{3y}{x-2}} - x.$$\n",
    "\n",
    "Solutions of the system subject to the constrains $-1\\leq x\\leq0,-2\\leq y\\leq1$ are common roots of the functions\n",
    "\n",
    "$$f(x,y) = \\sin(xy) + x\\log(y+3) - x^2 + \\frac{1}{y-4} $$\n",
    "$$g(x,y) = \\cos(3xy) + e^{\\frac{3y}{x-2}} - x - 6$$ on the search domain $[-1,0]\\times[-2,1]$."
   ]
  },
  {
   "cell_type": "code",
   "execution_count": null,
   "metadata": {
    "scrolled": false
   },
   "outputs": [],
   "source": [
    "#define the functions\n",
    "f = lambda x,y : np.sin(x*y) + x*np.log(y+3) - x**2 + 1/(y-4)\n",
    "g = lambda x,y : np.cos(3*x*y) + np.exp(3*y/(x-2)) - x - 6\n",
    "\n",
    "#search domain bounds\n",
    "a = [-1,-2] #lower bounds on x and y\n",
    "b = [0,1] #upper bounds on x and y\n",
    "\n",
    "#time\n",
    "%time roots = yr.solve([f,g], a, b, plot=True, plot_intervals=True, polish=True)\n",
    "\n",
    "#show the number of roots and maximal residuals\n",
    "roots.shape[0],np.max(np.abs(f(roots[:,0],roots[:,1]))),np.max(np.abs(g(roots[:,0],roots[:,1])))"
   ]
  },
  {
   "cell_type": "markdown",
   "metadata": {},
   "source": [
    "Here is a slightly more complex system on the search domain $[-1,1]\\times[-1,1]$ from [this paper](https://link.springer.com/article/10.1007/s00211-014-0635-z).\n",
    "\n",
    "$$f(x,y) =\\sin(30x−y/30)+y$$\n",
    "$$g(x,y) =\\cos(x/30−30y)−x$$"
   ]
  },
  {
   "cell_type": "code",
   "execution_count": null,
   "metadata": {
    "scrolled": false
   },
   "outputs": [],
   "source": [
    "#functions\n",
    "f = lambda x,y: np.sin(30*x-y/30)+y\n",
    "g = lambda x,y: np.cos(x/30-30*y)-x\n",
    "#search domain\n",
    "a = [-1,-1] #lower\n",
    "b = [1,1] #upper\n",
    "#time\n",
    "%time roots =  yr.solve([f,g], a, b,plot=True, polish=True)\n",
    "\n",
    "#show the number of roots and maximal residuals #363 or 362 Roots\n",
    "roots.shape[0],np.max(np.abs(f(roots[:,0],roots[:,1]))),np.max(np.abs(g(roots[:,0],roots[:,1])))"
   ]
  },
  {
   "cell_type": "markdown",
   "metadata": {},
   "source": [
    "Here is a more complicated bivariate system on the region $[-5,5]\\times[-5,5]$.\n",
    "\n",
    "$$f(x,y) = \\sin(20x+y)$$\n",
    "$$g(x,y) = \\cos(x^2+xy)-\\frac{1}{4}$$\n",
    "\n",
    "Notice that YRoots correctly avoids points that are nearly roots but are not roots."
   ]
  },
  {
   "cell_type": "code",
   "execution_count": null,
   "metadata": {
    "scrolled": false
   },
   "outputs": [],
   "source": [
    "#define functions and search domain\n",
    "f = lambda x,y : np.sin(20*x+y)\n",
    "g = lambda x,y : np.cos(x**2+x*y)-.25\n",
    "a = [-5,-5]\n",
    "b = [5,5]\n",
    "\n",
    "#solve and time\n",
    "%time roots = yr.solve([f,g], a, b,plot=True, polish=True)\n",
    "\n",
    "#show the number of roots and maximal residuals #452 Roots\n",
    "roots.shape[0],np.max(np.abs(f(roots[:,0],roots[:,1]))),np.max(np.abs(g(roots[:,0],roots[:,1])))"
   ]
  },
  {
   "cell_type": "markdown",
   "metadata": {},
   "source": [
    "Here is an ill-conditioned system from [this paper](https://link.springer.com/article/10.1007/s00211-014-0635-z) on the domain $[-1,1]\\times[-1,1]$.\n",
    "\n",
    "$$\\Pi_{i=0}^{10}(y^2(4y^2−\\frac{i}{10})−x^2(4x^2−1)) = 0$$\n",
    "$$256(x^2+y^2)^2+288(x^2+y^2)−512(x^3−3xy^2)=27$$"
   ]
  },
  {
   "cell_type": "code",
   "execution_count": null,
   "metadata": {
    "scrolled": false
   },
   "outputs": [],
   "source": [
    "#functions\n",
    "f = lambda x,y: np.prod([y**2*(4*y**2-i/10)-x**2*(4*x**2-1) for i in range(11)],axis=0)\n",
    "g = lambda x,y: 256*(x**2+y**2)**2+288*(x**2+y**2)-512*(x**3-3*x*y**2)-27\n",
    "#search domain\n",
    "a = [-1,-1] #lower\n",
    "b = [1,1] #upper\n",
    "#time\n",
    "%time roots = yr.solve([f,g], a, b,plot=True, plot_intervals=True, polish=True)\n",
    "\n",
    "#show the number of roots and maximal residuals\n",
    "roots.shape[0],np.max(np.abs(f(roots[:,0],roots[:,1]))),np.max(np.abs(g(roots[:,0],roots[:,1])))"
   ]
  },
  {
   "cell_type": "markdown",
   "metadata": {},
   "source": [
    "### Using YRoots for optimization\n",
    "\n",
    "YRoots can also be used for optimization problems, since the common roots of the partial derivatives of a function are critical points. "
   ]
  },
  {
   "cell_type": "markdown",
   "metadata": {},
   "source": [
    "The Rosenbrock function is often used as a performace test for optimization algorithms. It is well suited to be optimized with YRoots. \n",
    "\n",
    "$$f(x,y) = (1-x)^2 + 100(y-x^2)^2$$"
   ]
  },
  {
   "cell_type": "code",
   "execution_count": null,
   "metadata": {},
   "outputs": [],
   "source": [
    "#define function\n",
    "f = lambda x,y: (1-x)**2 + 100*(y-x**2)**2\n",
    "\n",
    "#partial derivatives\n",
    "fx = lambda x,y: 2*(x-1) + 200*(y-x**2)*(-2*x)\n",
    "fy = lambda x,y: 200*(y-x**2)"
   ]
  },
  {
   "cell_type": "code",
   "execution_count": null,
   "metadata": {},
   "outputs": [],
   "source": [
    "#3D plot of the function to optimize\n",
    "x = np.linspace(-2,2, 1000)\n",
    "y = np.linspace(-1,3, 1000)\n",
    "X, Y = np.meshgrid(x, y)\n",
    "\n",
    "fig = plt.figure()\n",
    "ax = fig.add_subplot(1,1,1, projection='3d')\n",
    "ax.plot_surface(X, Y, f(X,Y))"
   ]
  },
  {
   "cell_type": "code",
   "execution_count": null,
   "metadata": {},
   "outputs": [],
   "source": [
    "#find common roots\n",
    "low = [-2,-1]\n",
    "upp = [2,3]\n",
    "%time zeros = yr.solve([fx,fy],low,upp,plot=True, polish=True)"
   ]
  },
  {
   "cell_type": "code",
   "execution_count": null,
   "metadata": {},
   "outputs": [],
   "source": [
    "#evaluate at critical points\n",
    "values = f(zeros[:,0],zeros[:,1])\n",
    "#report mimima and minimizers\n",
    "mimimizer = np.argmin(values)\n",
    "values[mimimizer], zeros[mimimizer]"
   ]
  },
  {
   "cell_type": "markdown",
   "metadata": {},
   "source": [
    "Nick Trefethen's Hundred-dollar, Hundred-digit Challenge problems include finding the minimum of the function \n",
    "$$f(x,y) = e^{\\sin(50x)} + \\sin(60e^y) + \\sin(70 \\sin (x))+\\sin(\\sin(80y)) - \\sin(10(x+y)) + 1/4(x^2 + y^2).$$\n",
    "\n",
    "(Problem 4, [here](https://en.wikipedia.org/wiki/Hundred-dollar,_Hundred-digit_Challenge_problems))"
   ]
  },
  {
   "cell_type": "code",
   "execution_count": null,
   "metadata": {},
   "outputs": [],
   "source": [
    "#define function\n",
    "f = lambda x,y : np.exp(np.sin(50*x)) + np.sin(60*np.exp(y)) + np.sin(70*np.sin(x)) + np.sin(np.sin(80*y)) \\\n",
    "                - np.sin(10*(x+y)) + .25 * (x**2 + y**2)\n",
    "\n",
    "#partial derivatives\n",
    "fx = lambda x,y : 50*np.cos(50*x)*np.exp(np.sin(50*x)) + 70*np.cos(x)*np.cos(70*np.sin(x)) - 10*np.cos(10*(x+y)) + .5 * x\n",
    "fy = lambda x,y : 60*np.exp(y)*np.cos(60*np.exp(y)) + 80*np.cos(80*y)*np.cos(np.sin(80*y))- 10*np.cos(10*(x+y)) + .5 * y"
   ]
  },
  {
   "cell_type": "code",
   "execution_count": null,
   "metadata": {},
   "outputs": [],
   "source": [
    "#3D plot of the function to optimize\n",
    "x = np.linspace(-1,1, 1000)\n",
    "X, Y = np.meshgrid(x, x)\n",
    "\n",
    "fig = plt.figure()\n",
    "ax = fig.add_subplot(1,1,1, projection='3d')\n",
    "ax.plot_surface(X, Y, f(X,Y))"
   ]
  },
  {
   "cell_type": "code",
   "execution_count": null,
   "metadata": {
    "scrolled": false
   },
   "outputs": [],
   "source": [
    "#find common roots\n",
    "low = -np.ones(2)\n",
    "upp = np.ones(2)\n",
    "%time zeros = yr.solve([fx,fy],low,upp,plot=True, polish=True)"
   ]
  },
  {
   "cell_type": "code",
   "execution_count": null,
   "metadata": {},
   "outputs": [],
   "source": [
    "#how many zeros it found\n",
    "zeros.shape"
   ]
  },
  {
   "cell_type": "code",
   "execution_count": null,
   "metadata": {},
   "outputs": [],
   "source": [
    "#maximum residuals of common roots\n",
    "np.max(np.abs(fx(zeros[:,0],zeros[:,1]))),np.max(np.abs(fy(zeros[:,0],zeros[:,1])))"
   ]
  },
  {
   "cell_type": "code",
   "execution_count": null,
   "metadata": {},
   "outputs": [],
   "source": [
    "#evaluate at critical points\n",
    "values = f(zeros[:,0],zeros[:,1])\n",
    "#report mimima and minimizers\n",
    "mimimizer = np.argmin(values)\n",
    "values[mimimizer], zeros[mimimizer]"
   ]
  },
  {
   "cell_type": "markdown",
   "metadata": {},
   "source": [
    "YRoots can solve systems in higher dimensions as well. Moving forward, our goal is to increase rootfinding feasibility for high dimensional systems.\n",
    "\n",
    "Here are examples of YRoots running on systems in three and four variables."
   ]
  },
  {
   "cell_type": "markdown",
   "metadata": {},
   "source": [
    "### Three variables, Domain $[-1,1]\\times[-1,1]\\times[-1,1]$\n",
    "\n",
    "$$ f(x,y,z) = sin(5x+y+z)$$\n",
    "$$ g(x,y,z) = sin(xyz)$$\n",
    "$$ h(x,y,z) = x^2 + y^2 - z^2 - 1$$\n"
   ]
  },
  {
   "cell_type": "code",
   "execution_count": null,
   "metadata": {},
   "outputs": [],
   "source": [
    "#define the functions and the search domain\n",
    "f = lambda x,y,z : np.sin(5*x+y+z)\n",
    "g = lambda x,y,z : np.sin(x*y*z)\n",
    "h = lambda x,y,z : x**2+y**2-z**2-1\n",
    "a = -np.ones(3)\n",
    "b = np.ones(3)"
   ]
  },
  {
   "cell_type": "code",
   "execution_count": null,
   "metadata": {},
   "outputs": [],
   "source": [
    "#solve and time\n",
    "%time roots = yr.solve([f,g,h], a, b, polish=True)\n",
    "#show the number of roots and maximal residuals\n",
    "roots.shape[0],np.max(np.abs(f(*[roots[:,i] for i in range(3)]))),np.max(np.abs(g(*[roots[:,i] for i in range(3)]))),np.max(np.abs(h(*[roots[:,i] for i in range(3)])))"
   ]
  },
  {
   "cell_type": "markdown",
   "metadata": {},
   "source": [
    "The code below graphs these level surfaces and their common roots (code is from [here](https://stackoverflow.com/questions/4680525/plotting-implicit-equations-in-3d))."
   ]
  },
  {
   "cell_type": "code",
   "execution_count": null,
   "metadata": {
    "scrolled": false
   },
   "outputs": [],
   "source": [
    "#function for plotting level surfaces in 3D\n",
    "def plot_implicit(fn, color, bbox=(-1,1)):\n",
    "    ''' create a plot of an implicit function\n",
    "    fn  ...implicit function (plot where fn==0)\n",
    "    bbox ..the x,y,and z limits of plotted interval'''\n",
    "    xmin, xmax, ymin, ymax, zmin, zmax = bbox*3\n",
    "    A = np.linspace(xmin, xmax, 100) # resolution of the contour\n",
    "    B = np.linspace(xmin, xmax, 15) # number of slices\n",
    "    A1,A2 = np.meshgrid(A,A) # grid on which the contour is plotted\n",
    "\n",
    "    for z in B: # plot contours in the XY plane\n",
    "        X,Y = A1,A2\n",
    "        Z = fn(X,Y,z)\n",
    "        cset = ax.contour(X, Y, Z+z, [z], colors=color,alpha=.2,zdir='z')\n",
    "        # [z] defines the only level to plot for this contour for this value of z\n",
    "\n",
    "    for y in B: # plot contours in the XZ plane\n",
    "        X,Z = A1,A2\n",
    "        Y = fn(X,y,Z)\n",
    "        cset = ax.contour(X, Y+y, Z, [y], colors=color,alpha=.2,zdir='y')\n",
    "\n",
    "    for x in B: # plot contours in the YZ plane\n",
    "        Y,Z = A1,A2\n",
    "        X = fn(x,Y,Z)\n",
    "        cset = ax.contour(X+x, Y, Z, [x], colors=color,alpha=.2,zdir='x')\n",
    "\n",
    "    #set plot limits\n",
    "    ax.set_zlim3d(zmin,zmax)\n",
    "    ax.set_xlim3d(xmin,xmax)\n",
    "    ax.set_ylim3d(ymin,ymax)\n",
    "    \n",
    "#plot each level surface individually, then together\n",
    "\n",
    "#f\n",
    "fig = plt.figure(figsize=(10,20))\n",
    "ax = fig.add_subplot(631, projection='3d')\n",
    "ax.scatter(*[roots[:,i] for i in range(3)],color='g')\n",
    "plot_implicit(f,'r')\n",
    "ax.set_title('$f(x,y,z)=0$')\n",
    "\n",
    "#g\n",
    "ax = fig.add_subplot(632, projection='3d')\n",
    "ax.scatter(*[roots[:,i] for i in range(3)],color='g')\n",
    "plot_implicit(g,'b')\n",
    "ax.set_title('$g(x,y,z)=0$')\n",
    "\n",
    "#h\n",
    "ax = fig.add_subplot(633, projection='3d')\n",
    "ax.scatter(*[roots[:,i] for i in range(3)],color='g')\n",
    "plot_implicit(h,'k')\n",
    "ax.set_title('$h(x,y,z)=0$')\n",
    "\n",
    "#together\n",
    "ax = fig.add_subplot(634, projection='3d')\n",
    "ax.scatter(*[roots[:,i] for i in range(3)],color='g')\n",
    "plot_implicit(f,'r')\n",
    "plot_implicit(g,'b')\n",
    "plot_implicit(h,'k')\n",
    "ax.set_title('$f,g,h = 0$ and roots')\n",
    "\n",
    "#just the roots\n",
    "ax = fig.add_subplot(635, projection='3d')\n",
    "ax.scatter(*[roots[:,i] for i in range(3)],color='g')\n",
    "ax.set_title('roots')\n",
    "ax.set_zlim3d(-1,1)\n",
    "ax.set_xlim3d(-1,1)\n",
    "ax.set_ylim3d(-1,1)"
   ]
  },
  {
   "cell_type": "markdown",
   "metadata": {},
   "source": [
    "## Four Variable Optimization\n",
    "\n",
    "As a final multivariate example, we solve the following system.\n",
    "\n",
    "$$\\cos(x_1) + x_4 = 1$$\n",
    "$$\\cos(x_2) + x_3 = 2$$\n",
    "$$\\cos(x_3) + x_2 = 3$$\n",
    "$$\\cos(x_4) + x_1 = 4$$"
   ]
  },
  {
   "cell_type": "code",
   "execution_count": null,
   "metadata": {
    "scrolled": true
   },
   "outputs": [],
   "source": [
    "#functions\n",
    "f1 = lambda x1, x2, x3, x4: np.cos(x1) + x4 - 1\n",
    "f2 = lambda x1, x2, x3, x4: np.cos(x2) + x3 - 2\n",
    "f3 = lambda x1, x2, x3, x4: np.cos(x3) + x2 - 3\n",
    "f4 = lambda x1, x2, x3, x4: np.cos(x4) + x1 - 4\n",
    "\n",
    "#domain\n",
    "# a = [4,3.5,2,1.5]\n",
    "# b = [4.5,4,3,2]\n",
    "a = [-5,-5,-5,-5]\n",
    "b = [5,5,5,5]\n",
    "\n",
    "#solve and time\n",
    "%time roots = yr.solve([f1,f2,f3,f4],a,b,polish=True)\n",
    "\n",
    "#number of roots and maximum residual\n",
    "roots.shape[0],np.max([np.abs(f(*[roots[:,i] for i in range(4)])) for f in [f1,f2,f3,f4]])\n",
    "roots"
   ]
  },
  {
   "cell_type": "markdown",
   "metadata": {},
   "source": [
    "### Univariate Functions\n",
    "\n",
    "The `yr.solve` method can also be used to quickly find the roots of a univariate function. In this case, `a` and `b` can simply be entered as floats, and the `funcs` does not need to be a list.\n",
    "\n",
    "As an example, we find the zeros of $f(x) = \\sin(e^{3x})$ on $[-1,2]$."
   ]
  },
  {
   "cell_type": "code",
   "execution_count": null,
   "metadata": {},
   "outputs": [],
   "source": [
    "#define the function and search interval\n",
    "f = lambda x : np.sin(np.exp(3*x))\n",
    "\n",
    "a = -1\n",
    "b = 2\n",
    "\n",
    "#solve and time\n",
    "%time roots = yr.solve(f, a, b, plot=True)\n",
    "#show the number of roots and maximal residuals\n",
    "roots.size,np.max(np.abs(f(roots)))"
   ]
  },
  {
   "cell_type": "markdown",
   "metadata": {},
   "source": [
    "## Polynomials\n",
    "\n",
    "When a function in a system is a polynomial, it may be useful to pass it in as a YRoots's `Polynomial` object. `Polynomial` objects may be more cumbersome to create, but they have a special `evaluate_grid` method which allows for faster Chebyshev-approximations.\n",
    "\n",
    "If the system only includes `Polynomial` objects, it may be preferable to use the alternative `yr.polysolve` method which does not rely on Chebyshev approximations. The gains in speed depend on the degree and dimension of the system. Heuristically, these methods are faster than `yr.solve` for lower degree polynomial systems, but **these methods are only stable for roots where each coordinate has absolute value $< 1$.**\n",
    "\n",
    "We demonstrate how to create `Polynomial` objects and how to use `yr.polysolve`."
   ]
  },
  {
   "cell_type": "markdown",
   "metadata": {},
   "source": [
    "### YRoot Polynomials\n",
    "\n",
    "The two types of `Polynomial` objects are `MultiPower` and `MultiCheb`, corresponding to multivariate polynomials in the power basis and Chebyshev basis respectively. \n",
    "Polynomials in $n$-dimensions are represented by an $n$-dimensional array of coefficients. For a system with three variables, the $(i,j,k)$ spot in the coefficient tensor corresponds to the coefficients of $x^iy^jz^k$ in the power basis or $T_i(x)T_j(y)T_k(z)$ in the Chebyshev basis. It is probably easiest to construct this coefficient tensor by initializing a tensor of zeros and then setting each nonzero coefficient to the correct value.\n",
    "\n",
    "For example, $f(x,y) = 5x^3 + 4 xy^2 + 3x^2 + 2y^2 + 1$ would be initialized as \n",
    "```python\n",
    "coeff = np.zeros((4,4)) #4x4 matrix because it's a degree 3 polynomial\n",
    "coeff[3,0] = 5\n",
    "coeff[1,2] = 4\n",
    "coeff[2,0] = 3\n",
    "coeff[0,2] = 2\n",
    "coeff[0,0] = 1\n",
    "f = yr.MultiPower(coeff)```\n",
    "                         \n",
    "and $g(x,y,z) = 3T_1(x)T_2(y) + 5 T_2(z) + 2$ would be initialized as\n",
    "\n",
    "```python\n",
    "coeff = np.zeros((4,4,4))\n",
    "coeff[1,2,0] = 3\n",
    "coeff[0,0,5] = 5\n",
    "coeff[0,0,0] = 2\n",
    "g = yr.MultiCheb(coeff)```"
   ]
  },
  {
   "cell_type": "markdown",
   "metadata": {},
   "source": [
    "### Polysolve\n",
    "\n",
    "The function `yr.polysolve` has many options for polynomial rootfinding, but the default parameters are the most robust for most systems. The syntax is\n",
    "\n",
    "```python\n",
    "yr.polysolve(polys)```\n",
    "\n",
    "where `polys` is a list of polynomial objects. All of the polynomials must be represented in the same basis. For systems that come from Chebyshev approximations, it may be better to add the optional parameter `MSmatrix=-1`.\n",
    "\n",
    "As mentioned above, Polysolve is **only stable for finding roots where each coordinate has absolute value $< 1$.** Other roots near this region may be accurate, but how far away you can go before loosing accuracy depends on the degrees of the polynomials. By default, the system returns all the roots. To return only the roots which are guaranteed to be computed stably, use the optional parameter `return_all_roots=False`.\n",
    "\n",
    "Additionally, while `yr.solve` only finds real roots, `yr.polysolve` finds complex roots as well. \n",
    "\n",
    "Below, we find the common roots of \n",
    "\n",
    "$$f(x,y) = y^2 + 3xy - 4x +1$$\n",
    "$$g(x,y) = -6xy -2x^2 + 6y +3.$$\n"
   ]
  },
  {
   "cell_type": "code",
   "execution_count": null,
   "metadata": {},
   "outputs": [],
   "source": [
    "#direct construction of polynomials with coefficient tensors\n",
    "f = yr.MultiPower(np.array([[1, -4, 0],[0, 3, 0],[1, 0, 0]]))\n",
    "g = yr.MultiPower(np.array([[3, 0, -2],[6, -6, 0],[0, 0, 0]]))\n",
    "\n",
    "#solve and time\n",
    "%time roots = yr.polysolve([f,g], return_all_roots=True)\n",
    "#show the number of roots and maximal residuals\n",
    "roots.shape[0],np.max(np.abs(f(roots))),np.max(np.abs(g(roots)))"
   ]
  },
  {
   "cell_type": "code",
   "execution_count": null,
   "metadata": {},
   "outputs": [],
   "source": [
    "#plot f,g and roots\n",
    "x = np.linspace(-5,5,1000)\n",
    "y = np.linspace(-10,10,1000)\n",
    "X,Y = np.meshgrid(x,y)\n",
    "plt.contour(X,Y,f(np.array(list(zip(X,Y)))),levels=[0],colors='#003cff')\n",
    "plt.contour(X,Y,g(np.array(list(zip(X,Y)))),levels=[0],colors='k')\n",
    "plt.plot(roots[:,0],roots[:,1],'o',color='none',markeredgecolor='r',markersize=10)"
   ]
  },
  {
   "cell_type": "markdown",
   "metadata": {},
   "source": [
    "In this case, the polynomias are of low degree, so even the roots outside the interval $[-1,1]\\times[-1,1]$ are accurate.\n",
    "\n",
    "We now find the common roots of the randomly generated polynomials higher degree polynomials A and B. In the first case, we return all the complex roots Polyroots found, and in the second we only return roots in the unit box."
   ]
  },
  {
   "cell_type": "code",
   "execution_count": null,
   "metadata": {},
   "outputs": [],
   "source": [
    "#get three random 2D polynomials of a certain degree in the power basis\n",
    "degree = 20\n",
    "np.random.seed(23)\n",
    "A = yr.MultiPower(np.random.rand(degree,degree))\n",
    "B = yr.MultiPower(np.random.rand(degree,degree))\n",
    "\n",
    "#A and B will have roots at infinity (which yr.polysolve cannot yet handle) \n",
    "# unless their coefficient matrices are upper left triangular\n",
    "A = yr.MultiPower(np.fliplr(np.triu(np.fliplr(A.coeff))))\n",
    "B = yr.MultiPower(np.fliplr(np.triu(np.fliplr(B.coeff))))"
   ]
  },
  {
   "cell_type": "code",
   "execution_count": null,
   "metadata": {
    "scrolled": true
   },
   "outputs": [],
   "source": [
    "#All roots\n",
    "#solve and time\n",
    "%time roots = yr.polysolve([A,B], return_all_roots=True)\n",
    "#show the number of roots and maximal residuals\n",
    "roots.shape[0],np.max(A(roots)),np.max(B(roots))"
   ]
  },
  {
   "cell_type": "code",
   "execution_count": null,
   "metadata": {},
   "outputs": [],
   "source": [
    "#Roots in unit box\n",
    "#solve and time\n",
    "%time accurate_roots = yr.polysolve([A,B],return_all_roots=False)\n",
    "#show the number of roots and maximal residuals\n",
    "accurate_roots.shape[0],np.max(A(accurate_roots)),np.max(B(accurate_roots))"
   ]
  },
  {
   "cell_type": "markdown",
   "metadata": {},
   "source": [
    "Clearly, roots in the unit interval are more accurate for these higher degree systems. Still, real roots outside the region are visually perfect."
   ]
  },
  {
   "cell_type": "code",
   "execution_count": null,
   "metadata": {},
   "outputs": [],
   "source": [
    "#plot A,B and real roots\n",
    "x = np.linspace(-3,3,100)\n",
    "y = np.linspace(-3,3,100)\n",
    "X,Y = np.meshgrid(x,y)\n",
    "plt.contour(X,Y,A(np.array(list(zip(X,Y)))),levels=[0],colors='#003cff')\n",
    "plt.contour(X,Y,B(np.array(list(zip(X,Y)))),levels=[0],colors='k')\n",
    "#plot only the real roots\n",
    "real_roots = roots[np.all(np.abs(roots.imag) < 1.e-10,axis = 1)]\n",
    "plt.plot(np.real(real_roots[:,0]),np.real(real_roots[:,1]),'o',color='none',markeredgecolor='r',markersize=10)\n",
    "real_roots"
   ]
  },
  {
   "cell_type": "markdown",
   "metadata": {},
   "source": [
    "# YRoots Logo"
   ]
  },
  {
   "cell_type": "code",
   "execution_count": null,
   "metadata": {},
   "outputs": [],
   "source": [
    "#making logo\n",
    "one = lambda x,y: (y-.8)*(10*x+2.3)-.06*(2.5*x+2.3)**3+2+.2*np.sin(50*x)+.2*np.cos(50*y)\n",
    "two = lambda x,y: (y-.8)*(-10*x+2.3)-.06*(-2.5*x+2.3)**3+2+.2*np.sin(50*x)+.2*np.cos(50*y)"
   ]
  },
  {
   "cell_type": "code",
   "execution_count": null,
   "metadata": {
    "scrolled": false
   },
   "outputs": [],
   "source": [
    "%time zeros = yr.solve([one,two],-np.ones(2),np.ones(2),plot=True,plot_intervals=True, polish=True)\n",
    "#show the number of roots and maximal residuals\n",
    "zeros.shape[0],np.max(np.abs(one(zeros[:,0],zeros[:,1]))),np.max(np.abs(two(zeros[:,0],zeros[:,1])))"
   ]
  },
  {
   "cell_type": "code",
   "execution_count": null,
   "metadata": {},
   "outputs": [],
   "source": [
    "gamma,delta = 5,1\n",
    "f = lambda x,y: gamma*x*y - x*(1+y)\n",
    "g = lambda x,y: -x*y + (delta-y)*(1+y)\n",
    "yr.solve([f,g],[-5,-5],[5,5],plot=True,polish=True,plot_intervals=True)"
   ]
  },
  {
   "cell_type": "code",
   "execution_count": null,
   "metadata": {},
   "outputs": [],
   "source": [
    "f = lambda x: x**5/5 - 5*x**4/2 + 35*x**3/3-25*x**2+24*x\n",
    "roots = np.arange(1,5)\n",
    "plt.plot(roots,f(roots),'.')\n",
    "x = np.linspace(0,5,1000)\n",
    "plt.plot(x,f(x))"
   ]
  },
  {
   "cell_type": "code",
   "execution_count": null,
   "metadata": {},
   "outputs": [],
   "source": [
    "p = yr.MultiPower(np.array([24,-50,35,-10,1],dtype=np.float64))\n",
    "yr.polysolve([p])"
   ]
  },
  {
   "cell_type": "code",
   "execution_count": null,
   "metadata": {},
   "outputs": [],
   "source": [
    "f = lambda x: x**4-10*x**3+35*x**2-50*x+24\n",
    "yr.solve(f,0,5,plot=True,polish=True)"
   ]
  },
  {
   "cell_type": "code",
   "execution_count": null,
   "metadata": {},
   "outputs": [],
   "source": [
    "D2f = lambda x: 4*x**3-30*x**2+70*x-50\n",
    "D2f(roots)"
   ]
  },
  {
   "cell_type": "code",
   "execution_count": null,
   "metadata": {},
   "outputs": [],
   "source": [
    "f = lambda x,y: 3*x**2*y+4*x*y**2+x*y\n",
    "fx = lambda x,y: 6*x*y+4*y**2+y\n",
    "fy = lambda x,y: 3*x**2 + 8*x*y + x\n",
    "domain = 1*np.ones(2)\n",
    "\n",
    "roots = yr.solve([fx,fy],-domain,domain,plot=True)\n",
    "f(*roots.T), fx(*roots.T), fy(*roots.T), roots"
   ]
  },
  {
   "cell_type": "code",
   "execution_count": 2,
   "metadata": {},
   "outputs": [
    {
     "data": {
      "text/plain": [
       "array([1, -210, 20615, -1256850, 53327946, -1672280820, 40171771630,\n",
       "       -756111184500, 11310276995381, -135585182899530, 1307535010540395,\n",
       "       -10142299865511450, 63030812099294896, -311333643161390640,\n",
       "       1206647803780373360, -3599979517947607200, 8037811822645051776,\n",
       "       -12870931245150988800, 13803759753640704000, -8752948036761600000,\n",
       "       2432902008176640000], dtype=object)"
      ]
     },
     "execution_count": 2,
     "metadata": {},
     "output_type": "execute_result"
    }
   ],
   "source": [
    "import sympy as sy\n",
    "w_roots = np.arange(1, 21)\n",
    "\n",
    "# Get the exact Wilkinson polynomial coefficients using SymPy.\n",
    "x, i = sy.symbols('x i')\n",
    "w = sy.poly_from_expr(sy.product(x-i, (i, 1, 20)))[0]\n",
    "w_coeffs = np.array(w.all_coeffs())\n",
    "w_coeffs"
   ]
  },
  {
   "cell_type": "code",
   "execution_count": 3,
   "metadata": {},
   "outputs": [
    {
     "data": {
      "text/plain": [
       "array([ 2.43290201e+18, -8.75294804e+18,  1.38037598e+19, -1.28709312e+19,\n",
       "        8.03781182e+18, -3.59997952e+18,  1.20664780e+18, -3.11333643e+17,\n",
       "        6.30308121e+16, -1.01422999e+16,  1.30753501e+15, -1.35585183e+14,\n",
       "        1.13102770e+13, -7.56111184e+11,  4.01717716e+10, -1.67228082e+09,\n",
       "        5.33279460e+07, -1.25685000e+06,  2.06150000e+04, -2.10000000e+02,\n",
       "        1.00000000e+00])"
      ]
     },
     "execution_count": 3,
     "metadata": {},
     "output_type": "execute_result"
    }
   ],
   "source": [
    "w = yr.MultiPower(w_coeffs[::-1].astype(np.float64))\n",
    "w.coeff"
   ]
  },
  {
   "cell_type": "code",
   "execution_count": 4,
   "metadata": {},
   "outputs": [
    {
     "ename": "KeyboardInterrupt",
     "evalue": "",
     "output_type": "error",
     "traceback": [
      "\u001b[0;31m---------------------------------------------------------------------------\u001b[0m",
      "\u001b[0;31mKeyboardInterrupt\u001b[0m                         Traceback (most recent call last)",
      "\u001b[0;32m<ipython-input-4-49f9d6d808f8>\u001b[0m in \u001b[0;36m<module>\u001b[0;34m()\u001b[0m\n\u001b[0;32m----> 1\u001b[0;31m \u001b[0myr\u001b[0m\u001b[0;34m.\u001b[0m\u001b[0msolve\u001b[0m\u001b[0;34m(\u001b[0m\u001b[0;34m[\u001b[0m\u001b[0mw\u001b[0m\u001b[0;34m]\u001b[0m\u001b[0;34m,\u001b[0m\u001b[0;36m0\u001b[0m\u001b[0;34m,\u001b[0m\u001b[0;36m25\u001b[0m\u001b[0;34m)\u001b[0m\u001b[0;34m\u001b[0m\u001b[0m\n\u001b[0m",
      "\u001b[0;32m~/Documents/Research/RootFindingResearch/RootFinding/yroots/subdivision.py\u001b[0m in \u001b[0;36msolve\u001b[0;34m(funcs, a, b, plot, plot_intervals, polish)\u001b[0m\n\u001b[1;32m     60\u001b[0m     \u001b[0;32mif\u001b[0m \u001b[0mdim\u001b[0m \u001b[0;34m==\u001b[0m \u001b[0;36m1\u001b[0m\u001b[0;34m:\u001b[0m\u001b[0;34m\u001b[0m\u001b[0m\n\u001b[1;32m     61\u001b[0m         \u001b[0;31m#one dimensional case\u001b[0m\u001b[0;34m\u001b[0m\u001b[0;34m\u001b[0m\u001b[0m\n\u001b[0;32m---> 62\u001b[0;31m         \u001b[0mzeros\u001b[0m \u001b[0;34m=\u001b[0m \u001b[0msubdivision_solve_1d\u001b[0m\u001b[0;34m(\u001b[0m\u001b[0mfuncs\u001b[0m\u001b[0;34m[\u001b[0m\u001b[0;36m0\u001b[0m\u001b[0;34m]\u001b[0m\u001b[0;34m,\u001b[0m\u001b[0ma\u001b[0m\u001b[0;34m,\u001b[0m\u001b[0mb\u001b[0m\u001b[0;34m)\u001b[0m\u001b[0;34m\u001b[0m\u001b[0m\n\u001b[0m\u001b[1;32m     63\u001b[0m         \u001b[0;32mif\u001b[0m \u001b[0mplot\u001b[0m\u001b[0;34m:\u001b[0m\u001b[0;34m\u001b[0m\u001b[0m\n\u001b[1;32m     64\u001b[0m             \u001b[0mx\u001b[0m \u001b[0;34m=\u001b[0m \u001b[0mnp\u001b[0m\u001b[0;34m.\u001b[0m\u001b[0mlinspace\u001b[0m\u001b[0;34m(\u001b[0m\u001b[0ma\u001b[0m\u001b[0;34m,\u001b[0m\u001b[0mb\u001b[0m\u001b[0;34m,\u001b[0m\u001b[0;36m1000\u001b[0m\u001b[0;34m)\u001b[0m\u001b[0;34m\u001b[0m\u001b[0m\n",
      "\u001b[0;32m~/Documents/Research/RootFindingResearch/RootFinding/yroots/subdivision.py\u001b[0m in \u001b[0;36msubdivision_solve_1d\u001b[0;34m(f, a, b, cheb_approx_tol, max_degree)\u001b[0m\n\u001b[1;32m    841\u001b[0m     \u001b[0;31m#Subdivide the interval and recursively call the function.\u001b[0m\u001b[0;34m\u001b[0m\u001b[0;34m\u001b[0m\u001b[0m\n\u001b[1;32m    842\u001b[0m     \u001b[0mdiv_length\u001b[0m \u001b[0;34m=\u001b[0m \u001b[0;34m(\u001b[0m\u001b[0mb\u001b[0m\u001b[0;34m-\u001b[0m\u001b[0ma\u001b[0m\u001b[0;34m)\u001b[0m\u001b[0;34m/\u001b[0m\u001b[0;36m2\u001b[0m\u001b[0;34m\u001b[0m\u001b[0m\n\u001b[0;32m--> 843\u001b[0;31m     return np.hstack([subdivision_solve_1d(f,a,b-div_length,max_degree=max_degree),\\\n\u001b[0m\u001b[1;32m    844\u001b[0m                       subdivision_solve_1d(f,a+div_length,b,max_degree=max_degree)])\n",
      "\u001b[0;32m~/Documents/Research/RootFindingResearch/RootFinding/yroots/subdivision.py\u001b[0m in \u001b[0;36msubdivision_solve_1d\u001b[0;34m(f, a, b, cheb_approx_tol, max_degree)\u001b[0m\n\u001b[1;32m    841\u001b[0m     \u001b[0;31m#Subdivide the interval and recursively call the function.\u001b[0m\u001b[0;34m\u001b[0m\u001b[0;34m\u001b[0m\u001b[0m\n\u001b[1;32m    842\u001b[0m     \u001b[0mdiv_length\u001b[0m \u001b[0;34m=\u001b[0m \u001b[0;34m(\u001b[0m\u001b[0mb\u001b[0m\u001b[0;34m-\u001b[0m\u001b[0ma\u001b[0m\u001b[0;34m)\u001b[0m\u001b[0;34m/\u001b[0m\u001b[0;36m2\u001b[0m\u001b[0;34m\u001b[0m\u001b[0m\n\u001b[0;32m--> 843\u001b[0;31m     return np.hstack([subdivision_solve_1d(f,a,b-div_length,max_degree=max_degree),\\\n\u001b[0m\u001b[1;32m    844\u001b[0m                       subdivision_solve_1d(f,a+div_length,b,max_degree=max_degree)])\n",
      "\u001b[0;32m~/Documents/Research/RootFindingResearch/RootFinding/yroots/subdivision.py\u001b[0m in \u001b[0;36msubdivision_solve_1d\u001b[0;34m(f, a, b, cheb_approx_tol, max_degree)\u001b[0m\n\u001b[1;32m    841\u001b[0m     \u001b[0;31m#Subdivide the interval and recursively call the function.\u001b[0m\u001b[0;34m\u001b[0m\u001b[0;34m\u001b[0m\u001b[0m\n\u001b[1;32m    842\u001b[0m     \u001b[0mdiv_length\u001b[0m \u001b[0;34m=\u001b[0m \u001b[0;34m(\u001b[0m\u001b[0mb\u001b[0m\u001b[0;34m-\u001b[0m\u001b[0ma\u001b[0m\u001b[0;34m)\u001b[0m\u001b[0;34m/\u001b[0m\u001b[0;36m2\u001b[0m\u001b[0;34m\u001b[0m\u001b[0m\n\u001b[0;32m--> 843\u001b[0;31m     return np.hstack([subdivision_solve_1d(f,a,b-div_length,max_degree=max_degree),\\\n\u001b[0m\u001b[1;32m    844\u001b[0m                       subdivision_solve_1d(f,a+div_length,b,max_degree=max_degree)])\n",
      "\u001b[0;32m~/Documents/Research/RootFindingResearch/RootFinding/yroots/subdivision.py\u001b[0m in \u001b[0;36msubdivision_solve_1d\u001b[0;34m(f, a, b, cheb_approx_tol, max_degree)\u001b[0m\n\u001b[1;32m    841\u001b[0m     \u001b[0;31m#Subdivide the interval and recursively call the function.\u001b[0m\u001b[0;34m\u001b[0m\u001b[0;34m\u001b[0m\u001b[0m\n\u001b[1;32m    842\u001b[0m     \u001b[0mdiv_length\u001b[0m \u001b[0;34m=\u001b[0m \u001b[0;34m(\u001b[0m\u001b[0mb\u001b[0m\u001b[0;34m-\u001b[0m\u001b[0ma\u001b[0m\u001b[0;34m)\u001b[0m\u001b[0;34m/\u001b[0m\u001b[0;36m2\u001b[0m\u001b[0;34m\u001b[0m\u001b[0m\n\u001b[0;32m--> 843\u001b[0;31m     return np.hstack([subdivision_solve_1d(f,a,b-div_length,max_degree=max_degree),\\\n\u001b[0m\u001b[1;32m    844\u001b[0m                       subdivision_solve_1d(f,a+div_length,b,max_degree=max_degree)])\n",
      "\u001b[0;32m~/Documents/Research/RootFindingResearch/RootFinding/yroots/subdivision.py\u001b[0m in \u001b[0;36msubdivision_solve_1d\u001b[0;34m(f, a, b, cheb_approx_tol, max_degree)\u001b[0m\n\u001b[1;32m    841\u001b[0m     \u001b[0;31m#Subdivide the interval and recursively call the function.\u001b[0m\u001b[0;34m\u001b[0m\u001b[0;34m\u001b[0m\u001b[0m\n\u001b[1;32m    842\u001b[0m     \u001b[0mdiv_length\u001b[0m \u001b[0;34m=\u001b[0m \u001b[0;34m(\u001b[0m\u001b[0mb\u001b[0m\u001b[0;34m-\u001b[0m\u001b[0ma\u001b[0m\u001b[0;34m)\u001b[0m\u001b[0;34m/\u001b[0m\u001b[0;36m2\u001b[0m\u001b[0;34m\u001b[0m\u001b[0m\n\u001b[0;32m--> 843\u001b[0;31m     return np.hstack([subdivision_solve_1d(f,a,b-div_length,max_degree=max_degree),\\\n\u001b[0m\u001b[1;32m    844\u001b[0m                       subdivision_solve_1d(f,a+div_length,b,max_degree=max_degree)])\n",
      "\u001b[0;32m~/Documents/Research/RootFindingResearch/RootFinding/yroots/subdivision.py\u001b[0m in \u001b[0;36msubdivision_solve_1d\u001b[0;34m(f, a, b, cheb_approx_tol, max_degree)\u001b[0m\n\u001b[1;32m    841\u001b[0m     \u001b[0;31m#Subdivide the interval and recursively call the function.\u001b[0m\u001b[0;34m\u001b[0m\u001b[0;34m\u001b[0m\u001b[0m\n\u001b[1;32m    842\u001b[0m     \u001b[0mdiv_length\u001b[0m \u001b[0;34m=\u001b[0m \u001b[0;34m(\u001b[0m\u001b[0mb\u001b[0m\u001b[0;34m-\u001b[0m\u001b[0ma\u001b[0m\u001b[0;34m)\u001b[0m\u001b[0;34m/\u001b[0m\u001b[0;36m2\u001b[0m\u001b[0;34m\u001b[0m\u001b[0m\n\u001b[0;32m--> 843\u001b[0;31m     return np.hstack([subdivision_solve_1d(f,a,b-div_length,max_degree=max_degree),\\\n\u001b[0m\u001b[1;32m    844\u001b[0m                       subdivision_solve_1d(f,a+div_length,b,max_degree=max_degree)])\n",
      "\u001b[0;32m~/Documents/Research/RootFindingResearch/RootFinding/yroots/subdivision.py\u001b[0m in \u001b[0;36msubdivision_solve_1d\u001b[0;34m(f, a, b, cheb_approx_tol, max_degree)\u001b[0m\n\u001b[1;32m    841\u001b[0m     \u001b[0;31m#Subdivide the interval and recursively call the function.\u001b[0m\u001b[0;34m\u001b[0m\u001b[0;34m\u001b[0m\u001b[0m\n\u001b[1;32m    842\u001b[0m     \u001b[0mdiv_length\u001b[0m \u001b[0;34m=\u001b[0m \u001b[0;34m(\u001b[0m\u001b[0mb\u001b[0m\u001b[0;34m-\u001b[0m\u001b[0ma\u001b[0m\u001b[0;34m)\u001b[0m\u001b[0;34m/\u001b[0m\u001b[0;36m2\u001b[0m\u001b[0;34m\u001b[0m\u001b[0m\n\u001b[0;32m--> 843\u001b[0;31m     return np.hstack([subdivision_solve_1d(f,a,b-div_length,max_degree=max_degree),\\\n\u001b[0m\u001b[1;32m    844\u001b[0m                       subdivision_solve_1d(f,a+div_length,b,max_degree=max_degree)])\n",
      "\u001b[0;32m~/Documents/Research/RootFindingResearch/RootFinding/yroots/subdivision.py\u001b[0m in \u001b[0;36msubdivision_solve_1d\u001b[0;34m(f, a, b, cheb_approx_tol, max_degree)\u001b[0m\n\u001b[1;32m    841\u001b[0m     \u001b[0;31m#Subdivide the interval and recursively call the function.\u001b[0m\u001b[0;34m\u001b[0m\u001b[0;34m\u001b[0m\u001b[0m\n\u001b[1;32m    842\u001b[0m     \u001b[0mdiv_length\u001b[0m \u001b[0;34m=\u001b[0m \u001b[0;34m(\u001b[0m\u001b[0mb\u001b[0m\u001b[0;34m-\u001b[0m\u001b[0ma\u001b[0m\u001b[0;34m)\u001b[0m\u001b[0;34m/\u001b[0m\u001b[0;36m2\u001b[0m\u001b[0;34m\u001b[0m\u001b[0m\n\u001b[0;32m--> 843\u001b[0;31m     return np.hstack([subdivision_solve_1d(f,a,b-div_length,max_degree=max_degree),\\\n\u001b[0m\u001b[1;32m    844\u001b[0m                       subdivision_solve_1d(f,a+div_length,b,max_degree=max_degree)])\n",
      "\u001b[0;32m~/Documents/Research/RootFindingResearch/RootFinding/yroots/subdivision.py\u001b[0m in \u001b[0;36msubdivision_solve_1d\u001b[0;34m(f, a, b, cheb_approx_tol, max_degree)\u001b[0m\n\u001b[1;32m    841\u001b[0m     \u001b[0;31m#Subdivide the interval and recursively call the function.\u001b[0m\u001b[0;34m\u001b[0m\u001b[0;34m\u001b[0m\u001b[0m\n\u001b[1;32m    842\u001b[0m     \u001b[0mdiv_length\u001b[0m \u001b[0;34m=\u001b[0m \u001b[0;34m(\u001b[0m\u001b[0mb\u001b[0m\u001b[0;34m-\u001b[0m\u001b[0ma\u001b[0m\u001b[0;34m)\u001b[0m\u001b[0;34m/\u001b[0m\u001b[0;36m2\u001b[0m\u001b[0;34m\u001b[0m\u001b[0m\n\u001b[0;32m--> 843\u001b[0;31m     return np.hstack([subdivision_solve_1d(f,a,b-div_length,max_degree=max_degree),\\\n\u001b[0m\u001b[1;32m    844\u001b[0m                       subdivision_solve_1d(f,a+div_length,b,max_degree=max_degree)])\n",
      "\u001b[0;32m~/Documents/Research/RootFindingResearch/RootFinding/yroots/subdivision.py\u001b[0m in \u001b[0;36msubdivision_solve_1d\u001b[0;34m(f, a, b, cheb_approx_tol, max_degree)\u001b[0m\n\u001b[1;32m    841\u001b[0m     \u001b[0;31m#Subdivide the interval and recursively call the function.\u001b[0m\u001b[0;34m\u001b[0m\u001b[0;34m\u001b[0m\u001b[0m\n\u001b[1;32m    842\u001b[0m     \u001b[0mdiv_length\u001b[0m \u001b[0;34m=\u001b[0m \u001b[0;34m(\u001b[0m\u001b[0mb\u001b[0m\u001b[0;34m-\u001b[0m\u001b[0ma\u001b[0m\u001b[0;34m)\u001b[0m\u001b[0;34m/\u001b[0m\u001b[0;36m2\u001b[0m\u001b[0;34m\u001b[0m\u001b[0m\n\u001b[0;32m--> 843\u001b[0;31m     return np.hstack([subdivision_solve_1d(f,a,b-div_length,max_degree=max_degree),\\\n\u001b[0m\u001b[1;32m    844\u001b[0m                       subdivision_solve_1d(f,a+div_length,b,max_degree=max_degree)])\n",
      "\u001b[0;32m~/Documents/Research/RootFindingResearch/RootFinding/yroots/subdivision.py\u001b[0m in \u001b[0;36msubdivision_solve_1d\u001b[0;34m(f, a, b, cheb_approx_tol, max_degree)\u001b[0m\n\u001b[1;32m    841\u001b[0m     \u001b[0;31m#Subdivide the interval and recursively call the function.\u001b[0m\u001b[0;34m\u001b[0m\u001b[0;34m\u001b[0m\u001b[0m\n\u001b[1;32m    842\u001b[0m     \u001b[0mdiv_length\u001b[0m \u001b[0;34m=\u001b[0m \u001b[0;34m(\u001b[0m\u001b[0mb\u001b[0m\u001b[0;34m-\u001b[0m\u001b[0ma\u001b[0m\u001b[0;34m)\u001b[0m\u001b[0;34m/\u001b[0m\u001b[0;36m2\u001b[0m\u001b[0;34m\u001b[0m\u001b[0m\n\u001b[0;32m--> 843\u001b[0;31m     return np.hstack([subdivision_solve_1d(f,a,b-div_length,max_degree=max_degree),\\\n\u001b[0m\u001b[1;32m    844\u001b[0m                       subdivision_solve_1d(f,a+div_length,b,max_degree=max_degree)])\n",
      "\u001b[0;32m~/Documents/Research/RootFindingResearch/RootFinding/yroots/subdivision.py\u001b[0m in \u001b[0;36msubdivision_solve_1d\u001b[0;34m(f, a, b, cheb_approx_tol, max_degree)\u001b[0m\n\u001b[1;32m    841\u001b[0m     \u001b[0;31m#Subdivide the interval and recursively call the function.\u001b[0m\u001b[0;34m\u001b[0m\u001b[0;34m\u001b[0m\u001b[0m\n\u001b[1;32m    842\u001b[0m     \u001b[0mdiv_length\u001b[0m \u001b[0;34m=\u001b[0m \u001b[0;34m(\u001b[0m\u001b[0mb\u001b[0m\u001b[0;34m-\u001b[0m\u001b[0ma\u001b[0m\u001b[0;34m)\u001b[0m\u001b[0;34m/\u001b[0m\u001b[0;36m2\u001b[0m\u001b[0;34m\u001b[0m\u001b[0m\n\u001b[0;32m--> 843\u001b[0;31m     return np.hstack([subdivision_solve_1d(f,a,b-div_length,max_degree=max_degree),\\\n\u001b[0m\u001b[1;32m    844\u001b[0m                       subdivision_solve_1d(f,a+div_length,b,max_degree=max_degree)])\n",
      "\u001b[0;32m~/Documents/Research/RootFindingResearch/RootFinding/yroots/subdivision.py\u001b[0m in \u001b[0;36msubdivision_solve_1d\u001b[0;34m(f, a, b, cheb_approx_tol, max_degree)\u001b[0m\n\u001b[1;32m    841\u001b[0m     \u001b[0;31m#Subdivide the interval and recursively call the function.\u001b[0m\u001b[0;34m\u001b[0m\u001b[0;34m\u001b[0m\u001b[0m\n\u001b[1;32m    842\u001b[0m     \u001b[0mdiv_length\u001b[0m \u001b[0;34m=\u001b[0m \u001b[0;34m(\u001b[0m\u001b[0mb\u001b[0m\u001b[0;34m-\u001b[0m\u001b[0ma\u001b[0m\u001b[0;34m)\u001b[0m\u001b[0;34m/\u001b[0m\u001b[0;36m2\u001b[0m\u001b[0;34m\u001b[0m\u001b[0m\n\u001b[0;32m--> 843\u001b[0;31m     return np.hstack([subdivision_solve_1d(f,a,b-div_length,max_degree=max_degree),\\\n\u001b[0m\u001b[1;32m    844\u001b[0m                       subdivision_solve_1d(f,a+div_length,b,max_degree=max_degree)])\n",
      "\u001b[0;32m~/Documents/Research/RootFindingResearch/RootFinding/yroots/subdivision.py\u001b[0m in \u001b[0;36msubdivision_solve_1d\u001b[0;34m(f, a, b, cheb_approx_tol, max_degree)\u001b[0m\n\u001b[1;32m    841\u001b[0m     \u001b[0;31m#Subdivide the interval and recursively call the function.\u001b[0m\u001b[0;34m\u001b[0m\u001b[0;34m\u001b[0m\u001b[0m\n\u001b[1;32m    842\u001b[0m     \u001b[0mdiv_length\u001b[0m \u001b[0;34m=\u001b[0m \u001b[0;34m(\u001b[0m\u001b[0mb\u001b[0m\u001b[0;34m-\u001b[0m\u001b[0ma\u001b[0m\u001b[0;34m)\u001b[0m\u001b[0;34m/\u001b[0m\u001b[0;36m2\u001b[0m\u001b[0;34m\u001b[0m\u001b[0m\n\u001b[0;32m--> 843\u001b[0;31m     return np.hstack([subdivision_solve_1d(f,a,b-div_length,max_degree=max_degree),\\\n\u001b[0m\u001b[1;32m    844\u001b[0m                       subdivision_solve_1d(f,a+div_length,b,max_degree=max_degree)])\n",
      "\u001b[0;32m~/Documents/Research/RootFindingResearch/RootFinding/yroots/subdivision.py\u001b[0m in \u001b[0;36msubdivision_solve_1d\u001b[0;34m(f, a, b, cheb_approx_tol, max_degree)\u001b[0m\n\u001b[1;32m    841\u001b[0m     \u001b[0;31m#Subdivide the interval and recursively call the function.\u001b[0m\u001b[0;34m\u001b[0m\u001b[0;34m\u001b[0m\u001b[0m\n\u001b[1;32m    842\u001b[0m     \u001b[0mdiv_length\u001b[0m \u001b[0;34m=\u001b[0m \u001b[0;34m(\u001b[0m\u001b[0mb\u001b[0m\u001b[0;34m-\u001b[0m\u001b[0ma\u001b[0m\u001b[0;34m)\u001b[0m\u001b[0;34m/\u001b[0m\u001b[0;36m2\u001b[0m\u001b[0;34m\u001b[0m\u001b[0m\n\u001b[0;32m--> 843\u001b[0;31m     return np.hstack([subdivision_solve_1d(f,a,b-div_length,max_degree=max_degree),\\\n\u001b[0m\u001b[1;32m    844\u001b[0m                       subdivision_solve_1d(f,a+div_length,b,max_degree=max_degree)])\n",
      "\u001b[0;32m~/Documents/Research/RootFindingResearch/RootFinding/yroots/subdivision.py\u001b[0m in \u001b[0;36msubdivision_solve_1d\u001b[0;34m(f, a, b, cheb_approx_tol, max_degree)\u001b[0m\n\u001b[1;32m    841\u001b[0m     \u001b[0;31m#Subdivide the interval and recursively call the function.\u001b[0m\u001b[0;34m\u001b[0m\u001b[0;34m\u001b[0m\u001b[0m\n\u001b[1;32m    842\u001b[0m     \u001b[0mdiv_length\u001b[0m \u001b[0;34m=\u001b[0m \u001b[0;34m(\u001b[0m\u001b[0mb\u001b[0m\u001b[0;34m-\u001b[0m\u001b[0ma\u001b[0m\u001b[0;34m)\u001b[0m\u001b[0;34m/\u001b[0m\u001b[0;36m2\u001b[0m\u001b[0;34m\u001b[0m\u001b[0m\n\u001b[0;32m--> 843\u001b[0;31m     return np.hstack([subdivision_solve_1d(f,a,b-div_length,max_degree=max_degree),\\\n\u001b[0m\u001b[1;32m    844\u001b[0m                       subdivision_solve_1d(f,a+div_length,b,max_degree=max_degree)])\n",
      "\u001b[0;32m~/Documents/Research/RootFindingResearch/RootFinding/yroots/subdivision.py\u001b[0m in \u001b[0;36msubdivision_solve_1d\u001b[0;34m(f, a, b, cheb_approx_tol, max_degree)\u001b[0m\n\u001b[1;32m    841\u001b[0m     \u001b[0;31m#Subdivide the interval and recursively call the function.\u001b[0m\u001b[0;34m\u001b[0m\u001b[0;34m\u001b[0m\u001b[0m\n\u001b[1;32m    842\u001b[0m     \u001b[0mdiv_length\u001b[0m \u001b[0;34m=\u001b[0m \u001b[0;34m(\u001b[0m\u001b[0mb\u001b[0m\u001b[0;34m-\u001b[0m\u001b[0ma\u001b[0m\u001b[0;34m)\u001b[0m\u001b[0;34m/\u001b[0m\u001b[0;36m2\u001b[0m\u001b[0;34m\u001b[0m\u001b[0m\n\u001b[0;32m--> 843\u001b[0;31m     return np.hstack([subdivision_solve_1d(f,a,b-div_length,max_degree=max_degree),\\\n\u001b[0m\u001b[1;32m    844\u001b[0m                       subdivision_solve_1d(f,a+div_length,b,max_degree=max_degree)])\n",
      "\u001b[0;32m~/Documents/Research/RootFindingResearch/RootFinding/yroots/subdivision.py\u001b[0m in \u001b[0;36msubdivision_solve_1d\u001b[0;34m(f, a, b, cheb_approx_tol, max_degree)\u001b[0m\n\u001b[1;32m    841\u001b[0m     \u001b[0;31m#Subdivide the interval and recursively call the function.\u001b[0m\u001b[0;34m\u001b[0m\u001b[0;34m\u001b[0m\u001b[0m\n\u001b[1;32m    842\u001b[0m     \u001b[0mdiv_length\u001b[0m \u001b[0;34m=\u001b[0m \u001b[0;34m(\u001b[0m\u001b[0mb\u001b[0m\u001b[0;34m-\u001b[0m\u001b[0ma\u001b[0m\u001b[0;34m)\u001b[0m\u001b[0;34m/\u001b[0m\u001b[0;36m2\u001b[0m\u001b[0;34m\u001b[0m\u001b[0m\n\u001b[0;32m--> 843\u001b[0;31m     return np.hstack([subdivision_solve_1d(f,a,b-div_length,max_degree=max_degree),\\\n\u001b[0m\u001b[1;32m    844\u001b[0m                       subdivision_solve_1d(f,a+div_length,b,max_degree=max_degree)])\n",
      "\u001b[0;32m~/Documents/Research/RootFindingResearch/RootFinding/yroots/subdivision.py\u001b[0m in \u001b[0;36msubdivision_solve_1d\u001b[0;34m(f, a, b, cheb_approx_tol, max_degree)\u001b[0m\n\u001b[1;32m    841\u001b[0m     \u001b[0;31m#Subdivide the interval and recursively call the function.\u001b[0m\u001b[0;34m\u001b[0m\u001b[0;34m\u001b[0m\u001b[0m\n\u001b[1;32m    842\u001b[0m     \u001b[0mdiv_length\u001b[0m \u001b[0;34m=\u001b[0m \u001b[0;34m(\u001b[0m\u001b[0mb\u001b[0m\u001b[0;34m-\u001b[0m\u001b[0ma\u001b[0m\u001b[0;34m)\u001b[0m\u001b[0;34m/\u001b[0m\u001b[0;36m2\u001b[0m\u001b[0;34m\u001b[0m\u001b[0m\n\u001b[0;32m--> 843\u001b[0;31m     return np.hstack([subdivision_solve_1d(f,a,b-div_length,max_degree=max_degree),\\\n\u001b[0m\u001b[1;32m    844\u001b[0m                       subdivision_solve_1d(f,a+div_length,b,max_degree=max_degree)])\n",
      "\u001b[0;32m~/Documents/Research/RootFindingResearch/RootFinding/yroots/subdivision.py\u001b[0m in \u001b[0;36msubdivision_solve_1d\u001b[0;34m(f, a, b, cheb_approx_tol, max_degree)\u001b[0m\n\u001b[1;32m    841\u001b[0m     \u001b[0;31m#Subdivide the interval and recursively call the function.\u001b[0m\u001b[0;34m\u001b[0m\u001b[0;34m\u001b[0m\u001b[0m\n\u001b[1;32m    842\u001b[0m     \u001b[0mdiv_length\u001b[0m \u001b[0;34m=\u001b[0m \u001b[0;34m(\u001b[0m\u001b[0mb\u001b[0m\u001b[0;34m-\u001b[0m\u001b[0ma\u001b[0m\u001b[0;34m)\u001b[0m\u001b[0;34m/\u001b[0m\u001b[0;36m2\u001b[0m\u001b[0;34m\u001b[0m\u001b[0m\n\u001b[0;32m--> 843\u001b[0;31m     return np.hstack([subdivision_solve_1d(f,a,b-div_length,max_degree=max_degree),\\\n\u001b[0m\u001b[1;32m    844\u001b[0m                       subdivision_solve_1d(f,a+div_length,b,max_degree=max_degree)])\n",
      "\u001b[0;32m~/Documents/Research/RootFindingResearch/RootFinding/yroots/subdivision.py\u001b[0m in \u001b[0;36msubdivision_solve_1d\u001b[0;34m(f, a, b, cheb_approx_tol, max_degree)\u001b[0m\n\u001b[1;32m    841\u001b[0m     \u001b[0;31m#Subdivide the interval and recursively call the function.\u001b[0m\u001b[0;34m\u001b[0m\u001b[0;34m\u001b[0m\u001b[0m\n\u001b[1;32m    842\u001b[0m     \u001b[0mdiv_length\u001b[0m \u001b[0;34m=\u001b[0m \u001b[0;34m(\u001b[0m\u001b[0mb\u001b[0m\u001b[0;34m-\u001b[0m\u001b[0ma\u001b[0m\u001b[0;34m)\u001b[0m\u001b[0;34m/\u001b[0m\u001b[0;36m2\u001b[0m\u001b[0;34m\u001b[0m\u001b[0m\n\u001b[0;32m--> 843\u001b[0;31m     return np.hstack([subdivision_solve_1d(f,a,b-div_length,max_degree=max_degree),\\\n\u001b[0m\u001b[1;32m    844\u001b[0m                       subdivision_solve_1d(f,a+div_length,b,max_degree=max_degree)])\n",
      "\u001b[0;32m~/Documents/Research/RootFindingResearch/RootFinding/yroots/subdivision.py\u001b[0m in \u001b[0;36msubdivision_solve_1d\u001b[0;34m(f, a, b, cheb_approx_tol, max_degree)\u001b[0m\n\u001b[1;32m    841\u001b[0m     \u001b[0;31m#Subdivide the interval and recursively call the function.\u001b[0m\u001b[0;34m\u001b[0m\u001b[0;34m\u001b[0m\u001b[0m\n\u001b[1;32m    842\u001b[0m     \u001b[0mdiv_length\u001b[0m \u001b[0;34m=\u001b[0m \u001b[0;34m(\u001b[0m\u001b[0mb\u001b[0m\u001b[0;34m-\u001b[0m\u001b[0ma\u001b[0m\u001b[0;34m)\u001b[0m\u001b[0;34m/\u001b[0m\u001b[0;36m2\u001b[0m\u001b[0;34m\u001b[0m\u001b[0m\n\u001b[0;32m--> 843\u001b[0;31m     return np.hstack([subdivision_solve_1d(f,a,b-div_length,max_degree=max_degree),\\\n\u001b[0m\u001b[1;32m    844\u001b[0m                       subdivision_solve_1d(f,a+div_length,b,max_degree=max_degree)])\n",
      "\u001b[0;32m~/Documents/Research/RootFindingResearch/RootFinding/yroots/subdivision.py\u001b[0m in \u001b[0;36msubdivision_solve_1d\u001b[0;34m(f, a, b, cheb_approx_tol, max_degree)\u001b[0m\n\u001b[1;32m    841\u001b[0m     \u001b[0;31m#Subdivide the interval and recursively call the function.\u001b[0m\u001b[0;34m\u001b[0m\u001b[0;34m\u001b[0m\u001b[0m\n\u001b[1;32m    842\u001b[0m     \u001b[0mdiv_length\u001b[0m \u001b[0;34m=\u001b[0m \u001b[0;34m(\u001b[0m\u001b[0mb\u001b[0m\u001b[0;34m-\u001b[0m\u001b[0ma\u001b[0m\u001b[0;34m)\u001b[0m\u001b[0;34m/\u001b[0m\u001b[0;36m2\u001b[0m\u001b[0;34m\u001b[0m\u001b[0m\n\u001b[0;32m--> 843\u001b[0;31m     return np.hstack([subdivision_solve_1d(f,a,b-div_length,max_degree=max_degree),\\\n\u001b[0m\u001b[1;32m    844\u001b[0m                       subdivision_solve_1d(f,a+div_length,b,max_degree=max_degree)])\n",
      "\u001b[0;32m~/Documents/Research/RootFindingResearch/RootFinding/yroots/subdivision.py\u001b[0m in \u001b[0;36msubdivision_solve_1d\u001b[0;34m(f, a, b, cheb_approx_tol, max_degree)\u001b[0m\n\u001b[1;32m    841\u001b[0m     \u001b[0;31m#Subdivide the interval and recursively call the function.\u001b[0m\u001b[0;34m\u001b[0m\u001b[0;34m\u001b[0m\u001b[0m\n\u001b[1;32m    842\u001b[0m     \u001b[0mdiv_length\u001b[0m \u001b[0;34m=\u001b[0m \u001b[0;34m(\u001b[0m\u001b[0mb\u001b[0m\u001b[0;34m-\u001b[0m\u001b[0ma\u001b[0m\u001b[0;34m)\u001b[0m\u001b[0;34m/\u001b[0m\u001b[0;36m2\u001b[0m\u001b[0;34m\u001b[0m\u001b[0m\n\u001b[0;32m--> 843\u001b[0;31m     return np.hstack([subdivision_solve_1d(f,a,b-div_length,max_degree=max_degree),\\\n\u001b[0m\u001b[1;32m    844\u001b[0m                       subdivision_solve_1d(f,a+div_length,b,max_degree=max_degree)])\n",
      "\u001b[0;32m~/Documents/Research/RootFindingResearch/RootFinding/yroots/subdivision.py\u001b[0m in \u001b[0;36msubdivision_solve_1d\u001b[0;34m(f, a, b, cheb_approx_tol, max_degree)\u001b[0m\n\u001b[1;32m    841\u001b[0m     \u001b[0;31m#Subdivide the interval and recursively call the function.\u001b[0m\u001b[0;34m\u001b[0m\u001b[0;34m\u001b[0m\u001b[0m\n\u001b[1;32m    842\u001b[0m     \u001b[0mdiv_length\u001b[0m \u001b[0;34m=\u001b[0m \u001b[0;34m(\u001b[0m\u001b[0mb\u001b[0m\u001b[0;34m-\u001b[0m\u001b[0ma\u001b[0m\u001b[0;34m)\u001b[0m\u001b[0;34m/\u001b[0m\u001b[0;36m2\u001b[0m\u001b[0;34m\u001b[0m\u001b[0m\n\u001b[0;32m--> 843\u001b[0;31m     return np.hstack([subdivision_solve_1d(f,a,b-div_length,max_degree=max_degree),\\\n\u001b[0m\u001b[1;32m    844\u001b[0m                       subdivision_solve_1d(f,a+div_length,b,max_degree=max_degree)])\n",
      "\u001b[0;32m~/Documents/Research/RootFindingResearch/RootFinding/yroots/subdivision.py\u001b[0m in \u001b[0;36msubdivision_solve_1d\u001b[0;34m(f, a, b, cheb_approx_tol, max_degree)\u001b[0m\n\u001b[1;32m    841\u001b[0m     \u001b[0;31m#Subdivide the interval and recursively call the function.\u001b[0m\u001b[0;34m\u001b[0m\u001b[0;34m\u001b[0m\u001b[0m\n\u001b[1;32m    842\u001b[0m     \u001b[0mdiv_length\u001b[0m \u001b[0;34m=\u001b[0m \u001b[0;34m(\u001b[0m\u001b[0mb\u001b[0m\u001b[0;34m-\u001b[0m\u001b[0ma\u001b[0m\u001b[0;34m)\u001b[0m\u001b[0;34m/\u001b[0m\u001b[0;36m2\u001b[0m\u001b[0;34m\u001b[0m\u001b[0m\n\u001b[0;32m--> 843\u001b[0;31m     return np.hstack([subdivision_solve_1d(f,a,b-div_length,max_degree=max_degree),\\\n\u001b[0m\u001b[1;32m    844\u001b[0m                       subdivision_solve_1d(f,a+div_length,b,max_degree=max_degree)])\n",
      "\u001b[0;32m~/Documents/Research/RootFindingResearch/RootFinding/yroots/subdivision.py\u001b[0m in \u001b[0;36msubdivision_solve_1d\u001b[0;34m(f, a, b, cheb_approx_tol, max_degree)\u001b[0m\n\u001b[1;32m    841\u001b[0m     \u001b[0;31m#Subdivide the interval and recursively call the function.\u001b[0m\u001b[0;34m\u001b[0m\u001b[0;34m\u001b[0m\u001b[0m\n\u001b[1;32m    842\u001b[0m     \u001b[0mdiv_length\u001b[0m \u001b[0;34m=\u001b[0m \u001b[0;34m(\u001b[0m\u001b[0mb\u001b[0m\u001b[0;34m-\u001b[0m\u001b[0ma\u001b[0m\u001b[0;34m)\u001b[0m\u001b[0;34m/\u001b[0m\u001b[0;36m2\u001b[0m\u001b[0;34m\u001b[0m\u001b[0m\n\u001b[0;32m--> 843\u001b[0;31m     return np.hstack([subdivision_solve_1d(f,a,b-div_length,max_degree=max_degree),\\\n\u001b[0m\u001b[1;32m    844\u001b[0m                       subdivision_solve_1d(f,a+div_length,b,max_degree=max_degree)])\n",
      "\u001b[0;32m~/Documents/Research/RootFindingResearch/RootFinding/yroots/subdivision.py\u001b[0m in \u001b[0;36msubdivision_solve_1d\u001b[0;34m(f, a, b, cheb_approx_tol, max_degree)\u001b[0m\n\u001b[1;32m    841\u001b[0m     \u001b[0;31m#Subdivide the interval and recursively call the function.\u001b[0m\u001b[0;34m\u001b[0m\u001b[0;34m\u001b[0m\u001b[0m\n\u001b[1;32m    842\u001b[0m     \u001b[0mdiv_length\u001b[0m \u001b[0;34m=\u001b[0m \u001b[0;34m(\u001b[0m\u001b[0mb\u001b[0m\u001b[0;34m-\u001b[0m\u001b[0ma\u001b[0m\u001b[0;34m)\u001b[0m\u001b[0;34m/\u001b[0m\u001b[0;36m2\u001b[0m\u001b[0;34m\u001b[0m\u001b[0m\n\u001b[0;32m--> 843\u001b[0;31m     return np.hstack([subdivision_solve_1d(f,a,b-div_length,max_degree=max_degree),\\\n\u001b[0m\u001b[1;32m    844\u001b[0m                       subdivision_solve_1d(f,a+div_length,b,max_degree=max_degree)])\n",
      "\u001b[0;32m~/Documents/Research/RootFindingResearch/RootFinding/yroots/subdivision.py\u001b[0m in \u001b[0;36msubdivision_solve_1d\u001b[0;34m(f, a, b, cheb_approx_tol, max_degree)\u001b[0m\n\u001b[1;32m    841\u001b[0m     \u001b[0;31m#Subdivide the interval and recursively call the function.\u001b[0m\u001b[0;34m\u001b[0m\u001b[0;34m\u001b[0m\u001b[0m\n\u001b[1;32m    842\u001b[0m     \u001b[0mdiv_length\u001b[0m \u001b[0;34m=\u001b[0m \u001b[0;34m(\u001b[0m\u001b[0mb\u001b[0m\u001b[0;34m-\u001b[0m\u001b[0ma\u001b[0m\u001b[0;34m)\u001b[0m\u001b[0;34m/\u001b[0m\u001b[0;36m2\u001b[0m\u001b[0;34m\u001b[0m\u001b[0m\n\u001b[0;32m--> 843\u001b[0;31m     return np.hstack([subdivision_solve_1d(f,a,b-div_length,max_degree=max_degree),\\\n\u001b[0m\u001b[1;32m    844\u001b[0m                       subdivision_solve_1d(f,a+div_length,b,max_degree=max_degree)])\n",
      "\u001b[0;32m~/Documents/Research/RootFindingResearch/RootFinding/yroots/subdivision.py\u001b[0m in \u001b[0;36msubdivision_solve_1d\u001b[0;34m(f, a, b, cheb_approx_tol, max_degree)\u001b[0m\n\u001b[1;32m    841\u001b[0m     \u001b[0;31m#Subdivide the interval and recursively call the function.\u001b[0m\u001b[0;34m\u001b[0m\u001b[0;34m\u001b[0m\u001b[0m\n\u001b[1;32m    842\u001b[0m     \u001b[0mdiv_length\u001b[0m \u001b[0;34m=\u001b[0m \u001b[0;34m(\u001b[0m\u001b[0mb\u001b[0m\u001b[0;34m-\u001b[0m\u001b[0ma\u001b[0m\u001b[0;34m)\u001b[0m\u001b[0;34m/\u001b[0m\u001b[0;36m2\u001b[0m\u001b[0;34m\u001b[0m\u001b[0m\n\u001b[0;32m--> 843\u001b[0;31m     return np.hstack([subdivision_solve_1d(f,a,b-div_length,max_degree=max_degree),\\\n\u001b[0m\u001b[1;32m    844\u001b[0m                       subdivision_solve_1d(f,a+div_length,b,max_degree=max_degree)])\n",
      "\u001b[0;32m~/Documents/Research/RootFindingResearch/RootFinding/yroots/subdivision.py\u001b[0m in \u001b[0;36msubdivision_solve_1d\u001b[0;34m(f, a, b, cheb_approx_tol, max_degree)\u001b[0m\n\u001b[1;32m    841\u001b[0m     \u001b[0;31m#Subdivide the interval and recursively call the function.\u001b[0m\u001b[0;34m\u001b[0m\u001b[0;34m\u001b[0m\u001b[0m\n\u001b[1;32m    842\u001b[0m     \u001b[0mdiv_length\u001b[0m \u001b[0;34m=\u001b[0m \u001b[0;34m(\u001b[0m\u001b[0mb\u001b[0m\u001b[0;34m-\u001b[0m\u001b[0ma\u001b[0m\u001b[0;34m)\u001b[0m\u001b[0;34m/\u001b[0m\u001b[0;36m2\u001b[0m\u001b[0;34m\u001b[0m\u001b[0m\n\u001b[0;32m--> 843\u001b[0;31m     return np.hstack([subdivision_solve_1d(f,a,b-div_length,max_degree=max_degree),\\\n\u001b[0m\u001b[1;32m    844\u001b[0m                       subdivision_solve_1d(f,a+div_length,b,max_degree=max_degree)])\n",
      "\u001b[0;32m~/Documents/Research/RootFindingResearch/RootFinding/yroots/subdivision.py\u001b[0m in \u001b[0;36msubdivision_solve_1d\u001b[0;34m(f, a, b, cheb_approx_tol, max_degree)\u001b[0m\n\u001b[1;32m    841\u001b[0m     \u001b[0;31m#Subdivide the interval and recursively call the function.\u001b[0m\u001b[0;34m\u001b[0m\u001b[0;34m\u001b[0m\u001b[0m\n\u001b[1;32m    842\u001b[0m     \u001b[0mdiv_length\u001b[0m \u001b[0;34m=\u001b[0m \u001b[0;34m(\u001b[0m\u001b[0mb\u001b[0m\u001b[0;34m-\u001b[0m\u001b[0ma\u001b[0m\u001b[0;34m)\u001b[0m\u001b[0;34m/\u001b[0m\u001b[0;36m2\u001b[0m\u001b[0;34m\u001b[0m\u001b[0m\n\u001b[0;32m--> 843\u001b[0;31m     return np.hstack([subdivision_solve_1d(f,a,b-div_length,max_degree=max_degree),\\\n\u001b[0m\u001b[1;32m    844\u001b[0m                       subdivision_solve_1d(f,a+div_length,b,max_degree=max_degree)])\n",
      "\u001b[0;32m~/Documents/Research/RootFindingResearch/RootFinding/yroots/subdivision.py\u001b[0m in \u001b[0;36msubdivision_solve_1d\u001b[0;34m(f, a, b, cheb_approx_tol, max_degree)\u001b[0m\n\u001b[1;32m    841\u001b[0m     \u001b[0;31m#Subdivide the interval and recursively call the function.\u001b[0m\u001b[0;34m\u001b[0m\u001b[0;34m\u001b[0m\u001b[0m\n\u001b[1;32m    842\u001b[0m     \u001b[0mdiv_length\u001b[0m \u001b[0;34m=\u001b[0m \u001b[0;34m(\u001b[0m\u001b[0mb\u001b[0m\u001b[0;34m-\u001b[0m\u001b[0ma\u001b[0m\u001b[0;34m)\u001b[0m\u001b[0;34m/\u001b[0m\u001b[0;36m2\u001b[0m\u001b[0;34m\u001b[0m\u001b[0m\n\u001b[0;32m--> 843\u001b[0;31m     return np.hstack([subdivision_solve_1d(f,a,b-div_length,max_degree=max_degree),\\\n\u001b[0m\u001b[1;32m    844\u001b[0m                       subdivision_solve_1d(f,a+div_length,b,max_degree=max_degree)])\n",
      "\u001b[0;32m~/Documents/Research/RootFindingResearch/RootFinding/yroots/subdivision.py\u001b[0m in \u001b[0;36msubdivision_solve_1d\u001b[0;34m(f, a, b, cheb_approx_tol, max_degree)\u001b[0m\n\u001b[1;32m    841\u001b[0m     \u001b[0;31m#Subdivide the interval and recursively call the function.\u001b[0m\u001b[0;34m\u001b[0m\u001b[0;34m\u001b[0m\u001b[0m\n\u001b[1;32m    842\u001b[0m     \u001b[0mdiv_length\u001b[0m \u001b[0;34m=\u001b[0m \u001b[0;34m(\u001b[0m\u001b[0mb\u001b[0m\u001b[0;34m-\u001b[0m\u001b[0ma\u001b[0m\u001b[0;34m)\u001b[0m\u001b[0;34m/\u001b[0m\u001b[0;36m2\u001b[0m\u001b[0;34m\u001b[0m\u001b[0m\n\u001b[0;32m--> 843\u001b[0;31m     return np.hstack([subdivision_solve_1d(f,a,b-div_length,max_degree=max_degree),\\\n\u001b[0m\u001b[1;32m    844\u001b[0m                       subdivision_solve_1d(f,a+div_length,b,max_degree=max_degree)])\n",
      "\u001b[0;32m~/Documents/Research/RootFindingResearch/RootFinding/yroots/subdivision.py\u001b[0m in \u001b[0;36msubdivision_solve_1d\u001b[0;34m(f, a, b, cheb_approx_tol, max_degree)\u001b[0m\n\u001b[1;32m    841\u001b[0m     \u001b[0;31m#Subdivide the interval and recursively call the function.\u001b[0m\u001b[0;34m\u001b[0m\u001b[0;34m\u001b[0m\u001b[0m\n\u001b[1;32m    842\u001b[0m     \u001b[0mdiv_length\u001b[0m \u001b[0;34m=\u001b[0m \u001b[0;34m(\u001b[0m\u001b[0mb\u001b[0m\u001b[0;34m-\u001b[0m\u001b[0ma\u001b[0m\u001b[0;34m)\u001b[0m\u001b[0;34m/\u001b[0m\u001b[0;36m2\u001b[0m\u001b[0;34m\u001b[0m\u001b[0m\n\u001b[0;32m--> 843\u001b[0;31m     return np.hstack([subdivision_solve_1d(f,a,b-div_length,max_degree=max_degree),\\\n\u001b[0m\u001b[1;32m    844\u001b[0m                       subdivision_solve_1d(f,a+div_length,b,max_degree=max_degree)])\n",
      "\u001b[0;32m~/Documents/Research/RootFindingResearch/RootFinding/yroots/subdivision.py\u001b[0m in \u001b[0;36msubdivision_solve_1d\u001b[0;34m(f, a, b, cheb_approx_tol, max_degree)\u001b[0m\n\u001b[1;32m    841\u001b[0m     \u001b[0;31m#Subdivide the interval and recursively call the function.\u001b[0m\u001b[0;34m\u001b[0m\u001b[0;34m\u001b[0m\u001b[0m\n\u001b[1;32m    842\u001b[0m     \u001b[0mdiv_length\u001b[0m \u001b[0;34m=\u001b[0m \u001b[0;34m(\u001b[0m\u001b[0mb\u001b[0m\u001b[0;34m-\u001b[0m\u001b[0ma\u001b[0m\u001b[0;34m)\u001b[0m\u001b[0;34m/\u001b[0m\u001b[0;36m2\u001b[0m\u001b[0;34m\u001b[0m\u001b[0m\n\u001b[0;32m--> 843\u001b[0;31m     return np.hstack([subdivision_solve_1d(f,a,b-div_length,max_degree=max_degree),\\\n\u001b[0m\u001b[1;32m    844\u001b[0m                       subdivision_solve_1d(f,a+div_length,b,max_degree=max_degree)])\n",
      "\u001b[0;32m~/Documents/Research/RootFindingResearch/RootFinding/yroots/subdivision.py\u001b[0m in \u001b[0;36msubdivision_solve_1d\u001b[0;34m(f, a, b, cheb_approx_tol, max_degree)\u001b[0m\n\u001b[1;32m    841\u001b[0m     \u001b[0;31m#Subdivide the interval and recursively call the function.\u001b[0m\u001b[0;34m\u001b[0m\u001b[0;34m\u001b[0m\u001b[0m\n\u001b[1;32m    842\u001b[0m     \u001b[0mdiv_length\u001b[0m \u001b[0;34m=\u001b[0m \u001b[0;34m(\u001b[0m\u001b[0mb\u001b[0m\u001b[0;34m-\u001b[0m\u001b[0ma\u001b[0m\u001b[0;34m)\u001b[0m\u001b[0;34m/\u001b[0m\u001b[0;36m2\u001b[0m\u001b[0;34m\u001b[0m\u001b[0m\n\u001b[0;32m--> 843\u001b[0;31m     return np.hstack([subdivision_solve_1d(f,a,b-div_length,max_degree=max_degree),\\\n\u001b[0m\u001b[1;32m    844\u001b[0m                       subdivision_solve_1d(f,a+div_length,b,max_degree=max_degree)])\n",
      "\u001b[0;32m~/Documents/Research/RootFindingResearch/RootFinding/yroots/subdivision.py\u001b[0m in \u001b[0;36msubdivision_solve_1d\u001b[0;34m(f, a, b, cheb_approx_tol, max_degree)\u001b[0m\n\u001b[1;32m    841\u001b[0m     \u001b[0;31m#Subdivide the interval and recursively call the function.\u001b[0m\u001b[0;34m\u001b[0m\u001b[0;34m\u001b[0m\u001b[0m\n\u001b[1;32m    842\u001b[0m     \u001b[0mdiv_length\u001b[0m \u001b[0;34m=\u001b[0m \u001b[0;34m(\u001b[0m\u001b[0mb\u001b[0m\u001b[0;34m-\u001b[0m\u001b[0ma\u001b[0m\u001b[0;34m)\u001b[0m\u001b[0;34m/\u001b[0m\u001b[0;36m2\u001b[0m\u001b[0;34m\u001b[0m\u001b[0m\n\u001b[0;32m--> 843\u001b[0;31m     return np.hstack([subdivision_solve_1d(f,a,b-div_length,max_degree=max_degree),\\\n\u001b[0m\u001b[1;32m    844\u001b[0m                       subdivision_solve_1d(f,a+div_length,b,max_degree=max_degree)])\n",
      "\u001b[0;32m~/Documents/Research/RootFindingResearch/RootFinding/yroots/subdivision.py\u001b[0m in \u001b[0;36msubdivision_solve_1d\u001b[0;34m(f, a, b, cheb_approx_tol, max_degree)\u001b[0m\n\u001b[1;32m    841\u001b[0m     \u001b[0;31m#Subdivide the interval and recursively call the function.\u001b[0m\u001b[0;34m\u001b[0m\u001b[0;34m\u001b[0m\u001b[0m\n\u001b[1;32m    842\u001b[0m     \u001b[0mdiv_length\u001b[0m \u001b[0;34m=\u001b[0m \u001b[0;34m(\u001b[0m\u001b[0mb\u001b[0m\u001b[0;34m-\u001b[0m\u001b[0ma\u001b[0m\u001b[0;34m)\u001b[0m\u001b[0;34m/\u001b[0m\u001b[0;36m2\u001b[0m\u001b[0;34m\u001b[0m\u001b[0m\n\u001b[0;32m--> 843\u001b[0;31m     return np.hstack([subdivision_solve_1d(f,a,b-div_length,max_degree=max_degree),\\\n\u001b[0m\u001b[1;32m    844\u001b[0m                       subdivision_solve_1d(f,a+div_length,b,max_degree=max_degree)])\n",
      "\u001b[0;32m~/Documents/Research/RootFindingResearch/RootFinding/yroots/subdivision.py\u001b[0m in \u001b[0;36msubdivision_solve_1d\u001b[0;34m(f, a, b, cheb_approx_tol, max_degree)\u001b[0m\n\u001b[1;32m    841\u001b[0m     \u001b[0;31m#Subdivide the interval and recursively call the function.\u001b[0m\u001b[0;34m\u001b[0m\u001b[0;34m\u001b[0m\u001b[0m\n\u001b[1;32m    842\u001b[0m     \u001b[0mdiv_length\u001b[0m \u001b[0;34m=\u001b[0m \u001b[0;34m(\u001b[0m\u001b[0mb\u001b[0m\u001b[0;34m-\u001b[0m\u001b[0ma\u001b[0m\u001b[0;34m)\u001b[0m\u001b[0;34m/\u001b[0m\u001b[0;36m2\u001b[0m\u001b[0;34m\u001b[0m\u001b[0m\n\u001b[0;32m--> 843\u001b[0;31m     return np.hstack([subdivision_solve_1d(f,a,b-div_length,max_degree=max_degree),\\\n\u001b[0m\u001b[1;32m    844\u001b[0m                       subdivision_solve_1d(f,a+div_length,b,max_degree=max_degree)])\n",
      "\u001b[0;32m~/Documents/Research/RootFindingResearch/RootFinding/yroots/subdivision.py\u001b[0m in \u001b[0;36msubdivision_solve_1d\u001b[0;34m(f, a, b, cheb_approx_tol, max_degree)\u001b[0m\n\u001b[1;32m    841\u001b[0m     \u001b[0;31m#Subdivide the interval and recursively call the function.\u001b[0m\u001b[0;34m\u001b[0m\u001b[0;34m\u001b[0m\u001b[0m\n\u001b[1;32m    842\u001b[0m     \u001b[0mdiv_length\u001b[0m \u001b[0;34m=\u001b[0m \u001b[0;34m(\u001b[0m\u001b[0mb\u001b[0m\u001b[0;34m-\u001b[0m\u001b[0ma\u001b[0m\u001b[0;34m)\u001b[0m\u001b[0;34m/\u001b[0m\u001b[0;36m2\u001b[0m\u001b[0;34m\u001b[0m\u001b[0m\n\u001b[0;32m--> 843\u001b[0;31m     return np.hstack([subdivision_solve_1d(f,a,b-div_length,max_degree=max_degree),\\\n\u001b[0m\u001b[1;32m    844\u001b[0m                       subdivision_solve_1d(f,a+div_length,b,max_degree=max_degree)])\n",
      "\u001b[0;32m~/Documents/Research/RootFindingResearch/RootFinding/yroots/subdivision.py\u001b[0m in \u001b[0;36msubdivision_solve_1d\u001b[0;34m(f, a, b, cheb_approx_tol, max_degree)\u001b[0m\n\u001b[1;32m    841\u001b[0m     \u001b[0;31m#Subdivide the interval and recursively call the function.\u001b[0m\u001b[0;34m\u001b[0m\u001b[0;34m\u001b[0m\u001b[0m\n\u001b[1;32m    842\u001b[0m     \u001b[0mdiv_length\u001b[0m \u001b[0;34m=\u001b[0m \u001b[0;34m(\u001b[0m\u001b[0mb\u001b[0m\u001b[0;34m-\u001b[0m\u001b[0ma\u001b[0m\u001b[0;34m)\u001b[0m\u001b[0;34m/\u001b[0m\u001b[0;36m2\u001b[0m\u001b[0;34m\u001b[0m\u001b[0m\n\u001b[0;32m--> 843\u001b[0;31m     return np.hstack([subdivision_solve_1d(f,a,b-div_length,max_degree=max_degree),\\\n\u001b[0m\u001b[1;32m    844\u001b[0m                       subdivision_solve_1d(f,a+div_length,b,max_degree=max_degree)])\n",
      "\u001b[0;32m~/Documents/Research/RootFindingResearch/RootFinding/yroots/subdivision.py\u001b[0m in \u001b[0;36msubdivision_solve_1d\u001b[0;34m(f, a, b, cheb_approx_tol, max_degree)\u001b[0m\n\u001b[1;32m    841\u001b[0m     \u001b[0;31m#Subdivide the interval and recursively call the function.\u001b[0m\u001b[0;34m\u001b[0m\u001b[0;34m\u001b[0m\u001b[0m\n\u001b[1;32m    842\u001b[0m     \u001b[0mdiv_length\u001b[0m \u001b[0;34m=\u001b[0m \u001b[0;34m(\u001b[0m\u001b[0mb\u001b[0m\u001b[0;34m-\u001b[0m\u001b[0ma\u001b[0m\u001b[0;34m)\u001b[0m\u001b[0;34m/\u001b[0m\u001b[0;36m2\u001b[0m\u001b[0;34m\u001b[0m\u001b[0m\n\u001b[0;32m--> 843\u001b[0;31m     return np.hstack([subdivision_solve_1d(f,a,b-div_length,max_degree=max_degree),\\\n\u001b[0m\u001b[1;32m    844\u001b[0m                       subdivision_solve_1d(f,a+div_length,b,max_degree=max_degree)])\n",
      "\u001b[0;32m~/Documents/Research/RootFindingResearch/RootFinding/yroots/subdivision.py\u001b[0m in \u001b[0;36msubdivision_solve_1d\u001b[0;34m(f, a, b, cheb_approx_tol, max_degree)\u001b[0m\n\u001b[1;32m    841\u001b[0m     \u001b[0;31m#Subdivide the interval and recursively call the function.\u001b[0m\u001b[0;34m\u001b[0m\u001b[0;34m\u001b[0m\u001b[0m\n\u001b[1;32m    842\u001b[0m     \u001b[0mdiv_length\u001b[0m \u001b[0;34m=\u001b[0m \u001b[0;34m(\u001b[0m\u001b[0mb\u001b[0m\u001b[0;34m-\u001b[0m\u001b[0ma\u001b[0m\u001b[0;34m)\u001b[0m\u001b[0;34m/\u001b[0m\u001b[0;36m2\u001b[0m\u001b[0;34m\u001b[0m\u001b[0m\n\u001b[0;32m--> 843\u001b[0;31m     return np.hstack([subdivision_solve_1d(f,a,b-div_length,max_degree=max_degree),\\\n\u001b[0m\u001b[1;32m    844\u001b[0m                       subdivision_solve_1d(f,a+div_length,b,max_degree=max_degree)])\n",
      "\u001b[0;32m~/Documents/Research/RootFindingResearch/RootFinding/yroots/subdivision.py\u001b[0m in \u001b[0;36msubdivision_solve_1d\u001b[0;34m(f, a, b, cheb_approx_tol, max_degree)\u001b[0m\n\u001b[1;32m    841\u001b[0m     \u001b[0;31m#Subdivide the interval and recursively call the function.\u001b[0m\u001b[0;34m\u001b[0m\u001b[0;34m\u001b[0m\u001b[0m\n\u001b[1;32m    842\u001b[0m     \u001b[0mdiv_length\u001b[0m \u001b[0;34m=\u001b[0m \u001b[0;34m(\u001b[0m\u001b[0mb\u001b[0m\u001b[0;34m-\u001b[0m\u001b[0ma\u001b[0m\u001b[0;34m)\u001b[0m\u001b[0;34m/\u001b[0m\u001b[0;36m2\u001b[0m\u001b[0;34m\u001b[0m\u001b[0m\n\u001b[0;32m--> 843\u001b[0;31m     return np.hstack([subdivision_solve_1d(f,a,b-div_length,max_degree=max_degree),\\\n\u001b[0m\u001b[1;32m    844\u001b[0m                       subdivision_solve_1d(f,a+div_length,b,max_degree=max_degree)])\n",
      "\u001b[0;32m~/Documents/Research/RootFindingResearch/RootFinding/yroots/subdivision.py\u001b[0m in \u001b[0;36msubdivision_solve_1d\u001b[0;34m(f, a, b, cheb_approx_tol, max_degree)\u001b[0m\n\u001b[1;32m    841\u001b[0m     \u001b[0;31m#Subdivide the interval and recursively call the function.\u001b[0m\u001b[0;34m\u001b[0m\u001b[0;34m\u001b[0m\u001b[0m\n\u001b[1;32m    842\u001b[0m     \u001b[0mdiv_length\u001b[0m \u001b[0;34m=\u001b[0m \u001b[0;34m(\u001b[0m\u001b[0mb\u001b[0m\u001b[0;34m-\u001b[0m\u001b[0ma\u001b[0m\u001b[0;34m)\u001b[0m\u001b[0;34m/\u001b[0m\u001b[0;36m2\u001b[0m\u001b[0;34m\u001b[0m\u001b[0m\n\u001b[0;32m--> 843\u001b[0;31m     return np.hstack([subdivision_solve_1d(f,a,b-div_length,max_degree=max_degree),\\\n\u001b[0m\u001b[1;32m    844\u001b[0m                       subdivision_solve_1d(f,a+div_length,b,max_degree=max_degree)])\n",
      "\u001b[0;32m~/Documents/Research/RootFindingResearch/RootFinding/yroots/subdivision.py\u001b[0m in \u001b[0;36msubdivision_solve_1d\u001b[0;34m(f, a, b, cheb_approx_tol, max_degree)\u001b[0m\n\u001b[1;32m    841\u001b[0m     \u001b[0;31m#Subdivide the interval and recursively call the function.\u001b[0m\u001b[0;34m\u001b[0m\u001b[0;34m\u001b[0m\u001b[0m\n\u001b[1;32m    842\u001b[0m     \u001b[0mdiv_length\u001b[0m \u001b[0;34m=\u001b[0m \u001b[0;34m(\u001b[0m\u001b[0mb\u001b[0m\u001b[0;34m-\u001b[0m\u001b[0ma\u001b[0m\u001b[0;34m)\u001b[0m\u001b[0;34m/\u001b[0m\u001b[0;36m2\u001b[0m\u001b[0;34m\u001b[0m\u001b[0m\n\u001b[0;32m--> 843\u001b[0;31m     return np.hstack([subdivision_solve_1d(f,a,b-div_length,max_degree=max_degree),\\\n\u001b[0m\u001b[1;32m    844\u001b[0m                       subdivision_solve_1d(f,a+div_length,b,max_degree=max_degree)])\n",
      "\u001b[0;32m~/Documents/Research/RootFindingResearch/RootFinding/yroots/subdivision.py\u001b[0m in \u001b[0;36msubdivision_solve_1d\u001b[0;34m(f, a, b, cheb_approx_tol, max_degree)\u001b[0m\n\u001b[1;32m    841\u001b[0m     \u001b[0;31m#Subdivide the interval and recursively call the function.\u001b[0m\u001b[0;34m\u001b[0m\u001b[0;34m\u001b[0m\u001b[0m\n\u001b[1;32m    842\u001b[0m     \u001b[0mdiv_length\u001b[0m \u001b[0;34m=\u001b[0m \u001b[0;34m(\u001b[0m\u001b[0mb\u001b[0m\u001b[0;34m-\u001b[0m\u001b[0ma\u001b[0m\u001b[0;34m)\u001b[0m\u001b[0;34m/\u001b[0m\u001b[0;36m2\u001b[0m\u001b[0;34m\u001b[0m\u001b[0m\n\u001b[0;32m--> 843\u001b[0;31m     return np.hstack([subdivision_solve_1d(f,a,b-div_length,max_degree=max_degree),\\\n\u001b[0m\u001b[1;32m    844\u001b[0m                       subdivision_solve_1d(f,a+div_length,b,max_degree=max_degree)])\n",
      "\u001b[0;32m~/Documents/Research/RootFindingResearch/RootFinding/yroots/subdivision.py\u001b[0m in \u001b[0;36msubdivision_solve_1d\u001b[0;34m(f, a, b, cheb_approx_tol, max_degree)\u001b[0m\n\u001b[1;32m    841\u001b[0m     \u001b[0;31m#Subdivide the interval and recursively call the function.\u001b[0m\u001b[0;34m\u001b[0m\u001b[0;34m\u001b[0m\u001b[0m\n\u001b[1;32m    842\u001b[0m     \u001b[0mdiv_length\u001b[0m \u001b[0;34m=\u001b[0m \u001b[0;34m(\u001b[0m\u001b[0mb\u001b[0m\u001b[0;34m-\u001b[0m\u001b[0ma\u001b[0m\u001b[0;34m)\u001b[0m\u001b[0;34m/\u001b[0m\u001b[0;36m2\u001b[0m\u001b[0;34m\u001b[0m\u001b[0m\n\u001b[0;32m--> 843\u001b[0;31m     return np.hstack([subdivision_solve_1d(f,a,b-div_length,max_degree=max_degree),\\\n\u001b[0m\u001b[1;32m    844\u001b[0m                       subdivision_solve_1d(f,a+div_length,b,max_degree=max_degree)])\n",
      "\u001b[0;32m~/Documents/Research/RootFindingResearch/RootFinding/yroots/subdivision.py\u001b[0m in \u001b[0;36msubdivision_solve_1d\u001b[0;34m(f, a, b, cheb_approx_tol, max_degree)\u001b[0m\n\u001b[1;32m    841\u001b[0m     \u001b[0;31m#Subdivide the interval and recursively call the function.\u001b[0m\u001b[0;34m\u001b[0m\u001b[0;34m\u001b[0m\u001b[0m\n\u001b[1;32m    842\u001b[0m     \u001b[0mdiv_length\u001b[0m \u001b[0;34m=\u001b[0m \u001b[0;34m(\u001b[0m\u001b[0mb\u001b[0m\u001b[0;34m-\u001b[0m\u001b[0ma\u001b[0m\u001b[0;34m)\u001b[0m\u001b[0;34m/\u001b[0m\u001b[0;36m2\u001b[0m\u001b[0;34m\u001b[0m\u001b[0m\n\u001b[0;32m--> 843\u001b[0;31m     return np.hstack([subdivision_solve_1d(f,a,b-div_length,max_degree=max_degree),\\\n\u001b[0m\u001b[1;32m    844\u001b[0m                       subdivision_solve_1d(f,a+div_length,b,max_degree=max_degree)])\n",
      "\u001b[0;32m~/Documents/Research/RootFindingResearch/RootFinding/yroots/subdivision.py\u001b[0m in \u001b[0;36msubdivision_solve_1d\u001b[0;34m(f, a, b, cheb_approx_tol, max_degree)\u001b[0m\n\u001b[1;32m    842\u001b[0m     \u001b[0mdiv_length\u001b[0m \u001b[0;34m=\u001b[0m \u001b[0;34m(\u001b[0m\u001b[0mb\u001b[0m\u001b[0;34m-\u001b[0m\u001b[0ma\u001b[0m\u001b[0;34m)\u001b[0m\u001b[0;34m/\u001b[0m\u001b[0;36m2\u001b[0m\u001b[0;34m\u001b[0m\u001b[0m\n\u001b[1;32m    843\u001b[0m     return np.hstack([subdivision_solve_1d(f,a,b-div_length,max_degree=max_degree),\\\n\u001b[0;32m--> 844\u001b[0;31m                       subdivision_solve_1d(f,a+div_length,b,max_degree=max_degree)])\n\u001b[0m",
      "\u001b[0;32m~/Documents/Research/RootFindingResearch/RootFinding/yroots/subdivision.py\u001b[0m in \u001b[0;36msubdivision_solve_1d\u001b[0;34m(f, a, b, cheb_approx_tol, max_degree)\u001b[0m\n\u001b[1;32m    842\u001b[0m     \u001b[0mdiv_length\u001b[0m \u001b[0;34m=\u001b[0m \u001b[0;34m(\u001b[0m\u001b[0mb\u001b[0m\u001b[0;34m-\u001b[0m\u001b[0ma\u001b[0m\u001b[0;34m)\u001b[0m\u001b[0;34m/\u001b[0m\u001b[0;36m2\u001b[0m\u001b[0;34m\u001b[0m\u001b[0m\n\u001b[1;32m    843\u001b[0m     return np.hstack([subdivision_solve_1d(f,a,b-div_length,max_degree=max_degree),\\\n\u001b[0;32m--> 844\u001b[0;31m                       subdivision_solve_1d(f,a+div_length,b,max_degree=max_degree)])\n\u001b[0m",
      "\u001b[0;32m~/Documents/Research/RootFindingResearch/RootFinding/yroots/subdivision.py\u001b[0m in \u001b[0;36msubdivision_solve_1d\u001b[0;34m(f, a, b, cheb_approx_tol, max_degree)\u001b[0m\n\u001b[1;32m    841\u001b[0m     \u001b[0;31m#Subdivide the interval and recursively call the function.\u001b[0m\u001b[0;34m\u001b[0m\u001b[0;34m\u001b[0m\u001b[0m\n\u001b[1;32m    842\u001b[0m     \u001b[0mdiv_length\u001b[0m \u001b[0;34m=\u001b[0m \u001b[0;34m(\u001b[0m\u001b[0mb\u001b[0m\u001b[0;34m-\u001b[0m\u001b[0ma\u001b[0m\u001b[0;34m)\u001b[0m\u001b[0;34m/\u001b[0m\u001b[0;36m2\u001b[0m\u001b[0;34m\u001b[0m\u001b[0m\n\u001b[0;32m--> 843\u001b[0;31m     return np.hstack([subdivision_solve_1d(f,a,b-div_length,max_degree=max_degree),\\\n\u001b[0m\u001b[1;32m    844\u001b[0m                       subdivision_solve_1d(f,a+div_length,b,max_degree=max_degree)])\n",
      "\u001b[0;32m~/Documents/Research/RootFindingResearch/RootFinding/yroots/subdivision.py\u001b[0m in \u001b[0;36msubdivision_solve_1d\u001b[0;34m(f, a, b, cheb_approx_tol, max_degree)\u001b[0m\n\u001b[1;32m    841\u001b[0m     \u001b[0;31m#Subdivide the interval and recursively call the function.\u001b[0m\u001b[0;34m\u001b[0m\u001b[0;34m\u001b[0m\u001b[0m\n\u001b[1;32m    842\u001b[0m     \u001b[0mdiv_length\u001b[0m \u001b[0;34m=\u001b[0m \u001b[0;34m(\u001b[0m\u001b[0mb\u001b[0m\u001b[0;34m-\u001b[0m\u001b[0ma\u001b[0m\u001b[0;34m)\u001b[0m\u001b[0;34m/\u001b[0m\u001b[0;36m2\u001b[0m\u001b[0;34m\u001b[0m\u001b[0m\n\u001b[0;32m--> 843\u001b[0;31m     return np.hstack([subdivision_solve_1d(f,a,b-div_length,max_degree=max_degree),\\\n\u001b[0m\u001b[1;32m    844\u001b[0m                       subdivision_solve_1d(f,a+div_length,b,max_degree=max_degree)])\n",
      "\u001b[0;32m~/Documents/Research/RootFindingResearch/RootFinding/yroots/subdivision.py\u001b[0m in \u001b[0;36msubdivision_solve_1d\u001b[0;34m(f, a, b, cheb_approx_tol, max_degree)\u001b[0m\n\u001b[1;32m    841\u001b[0m     \u001b[0;31m#Subdivide the interval and recursively call the function.\u001b[0m\u001b[0;34m\u001b[0m\u001b[0;34m\u001b[0m\u001b[0m\n\u001b[1;32m    842\u001b[0m     \u001b[0mdiv_length\u001b[0m \u001b[0;34m=\u001b[0m \u001b[0;34m(\u001b[0m\u001b[0mb\u001b[0m\u001b[0;34m-\u001b[0m\u001b[0ma\u001b[0m\u001b[0;34m)\u001b[0m\u001b[0;34m/\u001b[0m\u001b[0;36m2\u001b[0m\u001b[0;34m\u001b[0m\u001b[0m\n\u001b[0;32m--> 843\u001b[0;31m     return np.hstack([subdivision_solve_1d(f,a,b-div_length,max_degree=max_degree),\\\n\u001b[0m\u001b[1;32m    844\u001b[0m                       subdivision_solve_1d(f,a+div_length,b,max_degree=max_degree)])\n",
      "\u001b[0;32m~/Documents/Research/RootFindingResearch/RootFinding/yroots/subdivision.py\u001b[0m in \u001b[0;36msubdivision_solve_1d\u001b[0;34m(f, a, b, cheb_approx_tol, max_degree)\u001b[0m\n\u001b[1;32m    842\u001b[0m     \u001b[0mdiv_length\u001b[0m \u001b[0;34m=\u001b[0m \u001b[0;34m(\u001b[0m\u001b[0mb\u001b[0m\u001b[0;34m-\u001b[0m\u001b[0ma\u001b[0m\u001b[0;34m)\u001b[0m\u001b[0;34m/\u001b[0m\u001b[0;36m2\u001b[0m\u001b[0;34m\u001b[0m\u001b[0m\n\u001b[1;32m    843\u001b[0m     return np.hstack([subdivision_solve_1d(f,a,b-div_length,max_degree=max_degree),\\\n\u001b[0;32m--> 844\u001b[0;31m                       subdivision_solve_1d(f,a+div_length,b,max_degree=max_degree)])\n\u001b[0m",
      "\u001b[0;32m~/Documents/Research/RootFindingResearch/RootFinding/yroots/subdivision.py\u001b[0m in \u001b[0;36msubdivision_solve_1d\u001b[0;34m(f, a, b, cheb_approx_tol, max_degree)\u001b[0m\n\u001b[1;32m    841\u001b[0m     \u001b[0;31m#Subdivide the interval and recursively call the function.\u001b[0m\u001b[0;34m\u001b[0m\u001b[0;34m\u001b[0m\u001b[0m\n\u001b[1;32m    842\u001b[0m     \u001b[0mdiv_length\u001b[0m \u001b[0;34m=\u001b[0m \u001b[0;34m(\u001b[0m\u001b[0mb\u001b[0m\u001b[0;34m-\u001b[0m\u001b[0ma\u001b[0m\u001b[0;34m)\u001b[0m\u001b[0;34m/\u001b[0m\u001b[0;36m2\u001b[0m\u001b[0;34m\u001b[0m\u001b[0m\n\u001b[0;32m--> 843\u001b[0;31m     return np.hstack([subdivision_solve_1d(f,a,b-div_length,max_degree=max_degree),\\\n\u001b[0m\u001b[1;32m    844\u001b[0m                       subdivision_solve_1d(f,a+div_length,b,max_degree=max_degree)])\n",
      "\u001b[0;32m~/Documents/Research/RootFindingResearch/RootFinding/yroots/subdivision.py\u001b[0m in \u001b[0;36msubdivision_solve_1d\u001b[0;34m(f, a, b, cheb_approx_tol, max_degree)\u001b[0m\n\u001b[1;32m    842\u001b[0m     \u001b[0mdiv_length\u001b[0m \u001b[0;34m=\u001b[0m \u001b[0;34m(\u001b[0m\u001b[0mb\u001b[0m\u001b[0;34m-\u001b[0m\u001b[0ma\u001b[0m\u001b[0;34m)\u001b[0m\u001b[0;34m/\u001b[0m\u001b[0;36m2\u001b[0m\u001b[0;34m\u001b[0m\u001b[0m\n\u001b[1;32m    843\u001b[0m     return np.hstack([subdivision_solve_1d(f,a,b-div_length,max_degree=max_degree),\\\n\u001b[0;32m--> 844\u001b[0;31m                       subdivision_solve_1d(f,a+div_length,b,max_degree=max_degree)])\n\u001b[0m",
      "\u001b[0;32m~/Documents/Research/RootFindingResearch/RootFinding/yroots/subdivision.py\u001b[0m in \u001b[0;36msubdivision_solve_1d\u001b[0;34m(f, a, b, cheb_approx_tol, max_degree)\u001b[0m\n\u001b[1;32m    841\u001b[0m     \u001b[0;31m#Subdivide the interval and recursively call the function.\u001b[0m\u001b[0;34m\u001b[0m\u001b[0;34m\u001b[0m\u001b[0m\n\u001b[1;32m    842\u001b[0m     \u001b[0mdiv_length\u001b[0m \u001b[0;34m=\u001b[0m \u001b[0;34m(\u001b[0m\u001b[0mb\u001b[0m\u001b[0;34m-\u001b[0m\u001b[0ma\u001b[0m\u001b[0;34m)\u001b[0m\u001b[0;34m/\u001b[0m\u001b[0;36m2\u001b[0m\u001b[0;34m\u001b[0m\u001b[0m\n\u001b[0;32m--> 843\u001b[0;31m     return np.hstack([subdivision_solve_1d(f,a,b-div_length,max_degree=max_degree),\\\n\u001b[0m\u001b[1;32m    844\u001b[0m                       subdivision_solve_1d(f,a+div_length,b,max_degree=max_degree)])\n",
      "\u001b[0;32m~/Documents/Research/RootFindingResearch/RootFinding/yroots/subdivision.py\u001b[0m in \u001b[0;36msubdivision_solve_1d\u001b[0;34m(f, a, b, cheb_approx_tol, max_degree)\u001b[0m\n\u001b[1;32m    842\u001b[0m     \u001b[0mdiv_length\u001b[0m \u001b[0;34m=\u001b[0m \u001b[0;34m(\u001b[0m\u001b[0mb\u001b[0m\u001b[0;34m-\u001b[0m\u001b[0ma\u001b[0m\u001b[0;34m)\u001b[0m\u001b[0;34m/\u001b[0m\u001b[0;36m2\u001b[0m\u001b[0;34m\u001b[0m\u001b[0m\n\u001b[1;32m    843\u001b[0m     return np.hstack([subdivision_solve_1d(f,a,b-div_length,max_degree=max_degree),\\\n\u001b[0;32m--> 844\u001b[0;31m                       subdivision_solve_1d(f,a+div_length,b,max_degree=max_degree)])\n\u001b[0m",
      "\u001b[0;32m~/Documents/Research/RootFindingResearch/RootFinding/yroots/subdivision.py\u001b[0m in \u001b[0;36msubdivision_solve_1d\u001b[0;34m(f, a, b, cheb_approx_tol, max_degree)\u001b[0m\n\u001b[1;32m    841\u001b[0m     \u001b[0;31m#Subdivide the interval and recursively call the function.\u001b[0m\u001b[0;34m\u001b[0m\u001b[0;34m\u001b[0m\u001b[0m\n\u001b[1;32m    842\u001b[0m     \u001b[0mdiv_length\u001b[0m \u001b[0;34m=\u001b[0m \u001b[0;34m(\u001b[0m\u001b[0mb\u001b[0m\u001b[0;34m-\u001b[0m\u001b[0ma\u001b[0m\u001b[0;34m)\u001b[0m\u001b[0;34m/\u001b[0m\u001b[0;36m2\u001b[0m\u001b[0;34m\u001b[0m\u001b[0m\n\u001b[0;32m--> 843\u001b[0;31m     return np.hstack([subdivision_solve_1d(f,a,b-div_length,max_degree=max_degree),\\\n\u001b[0m\u001b[1;32m    844\u001b[0m                       subdivision_solve_1d(f,a+div_length,b,max_degree=max_degree)])\n",
      "\u001b[0;32m~/Documents/Research/RootFindingResearch/RootFinding/yroots/subdivision.py\u001b[0m in \u001b[0;36msubdivision_solve_1d\u001b[0;34m(f, a, b, cheb_approx_tol, max_degree)\u001b[0m\n\u001b[1;32m    841\u001b[0m     \u001b[0;31m#Subdivide the interval and recursively call the function.\u001b[0m\u001b[0;34m\u001b[0m\u001b[0;34m\u001b[0m\u001b[0m\n\u001b[1;32m    842\u001b[0m     \u001b[0mdiv_length\u001b[0m \u001b[0;34m=\u001b[0m \u001b[0;34m(\u001b[0m\u001b[0mb\u001b[0m\u001b[0;34m-\u001b[0m\u001b[0ma\u001b[0m\u001b[0;34m)\u001b[0m\u001b[0;34m/\u001b[0m\u001b[0;36m2\u001b[0m\u001b[0;34m\u001b[0m\u001b[0m\n\u001b[0;32m--> 843\u001b[0;31m     return np.hstack([subdivision_solve_1d(f,a,b-div_length,max_degree=max_degree),\\\n\u001b[0m\u001b[1;32m    844\u001b[0m                       subdivision_solve_1d(f,a+div_length,b,max_degree=max_degree)])\n",
      "\u001b[0;32m~/Documents/Research/RootFindingResearch/RootFinding/yroots/subdivision.py\u001b[0m in \u001b[0;36msubdivision_solve_1d\u001b[0;34m(f, a, b, cheb_approx_tol, max_degree)\u001b[0m\n\u001b[1;32m    841\u001b[0m     \u001b[0;31m#Subdivide the interval and recursively call the function.\u001b[0m\u001b[0;34m\u001b[0m\u001b[0;34m\u001b[0m\u001b[0m\n\u001b[1;32m    842\u001b[0m     \u001b[0mdiv_length\u001b[0m \u001b[0;34m=\u001b[0m \u001b[0;34m(\u001b[0m\u001b[0mb\u001b[0m\u001b[0;34m-\u001b[0m\u001b[0ma\u001b[0m\u001b[0;34m)\u001b[0m\u001b[0;34m/\u001b[0m\u001b[0;36m2\u001b[0m\u001b[0;34m\u001b[0m\u001b[0m\n\u001b[0;32m--> 843\u001b[0;31m     return np.hstack([subdivision_solve_1d(f,a,b-div_length,max_degree=max_degree),\\\n\u001b[0m\u001b[1;32m    844\u001b[0m                       subdivision_solve_1d(f,a+div_length,b,max_degree=max_degree)])\n",
      "\u001b[0;32m~/Documents/Research/RootFindingResearch/RootFinding/yroots/subdivision.py\u001b[0m in \u001b[0;36msubdivision_solve_1d\u001b[0;34m(f, a, b, cheb_approx_tol, max_degree)\u001b[0m\n\u001b[1;32m    841\u001b[0m     \u001b[0;31m#Subdivide the interval and recursively call the function.\u001b[0m\u001b[0;34m\u001b[0m\u001b[0;34m\u001b[0m\u001b[0m\n\u001b[1;32m    842\u001b[0m     \u001b[0mdiv_length\u001b[0m \u001b[0;34m=\u001b[0m \u001b[0;34m(\u001b[0m\u001b[0mb\u001b[0m\u001b[0;34m-\u001b[0m\u001b[0ma\u001b[0m\u001b[0;34m)\u001b[0m\u001b[0;34m/\u001b[0m\u001b[0;36m2\u001b[0m\u001b[0;34m\u001b[0m\u001b[0m\n\u001b[0;32m--> 843\u001b[0;31m     return np.hstack([subdivision_solve_1d(f,a,b-div_length,max_degree=max_degree),\\\n\u001b[0m\u001b[1;32m    844\u001b[0m                       subdivision_solve_1d(f,a+div_length,b,max_degree=max_degree)])\n",
      "\u001b[0;32m~/Documents/Research/RootFindingResearch/RootFinding/yroots/subdivision.py\u001b[0m in \u001b[0;36msubdivision_solve_1d\u001b[0;34m(f, a, b, cheb_approx_tol, max_degree)\u001b[0m\n\u001b[1;32m    842\u001b[0m     \u001b[0mdiv_length\u001b[0m \u001b[0;34m=\u001b[0m \u001b[0;34m(\u001b[0m\u001b[0mb\u001b[0m\u001b[0;34m-\u001b[0m\u001b[0ma\u001b[0m\u001b[0;34m)\u001b[0m\u001b[0;34m/\u001b[0m\u001b[0;36m2\u001b[0m\u001b[0;34m\u001b[0m\u001b[0m\n\u001b[1;32m    843\u001b[0m     return np.hstack([subdivision_solve_1d(f,a,b-div_length,max_degree=max_degree),\\\n\u001b[0;32m--> 844\u001b[0;31m                       subdivision_solve_1d(f,a+div_length,b,max_degree=max_degree)])\n\u001b[0m",
      "\u001b[0;32m~/Documents/Research/RootFindingResearch/RootFinding/yroots/subdivision.py\u001b[0m in \u001b[0;36msubdivision_solve_1d\u001b[0;34m(f, a, b, cheb_approx_tol, max_degree)\u001b[0m\n\u001b[1;32m    841\u001b[0m     \u001b[0;31m#Subdivide the interval and recursively call the function.\u001b[0m\u001b[0;34m\u001b[0m\u001b[0;34m\u001b[0m\u001b[0m\n\u001b[1;32m    842\u001b[0m     \u001b[0mdiv_length\u001b[0m \u001b[0;34m=\u001b[0m \u001b[0;34m(\u001b[0m\u001b[0mb\u001b[0m\u001b[0;34m-\u001b[0m\u001b[0ma\u001b[0m\u001b[0;34m)\u001b[0m\u001b[0;34m/\u001b[0m\u001b[0;36m2\u001b[0m\u001b[0;34m\u001b[0m\u001b[0m\n\u001b[0;32m--> 843\u001b[0;31m     return np.hstack([subdivision_solve_1d(f,a,b-div_length,max_degree=max_degree),\\\n\u001b[0m\u001b[1;32m    844\u001b[0m                       subdivision_solve_1d(f,a+div_length,b,max_degree=max_degree)])\n",
      "\u001b[0;32m~/Documents/Research/RootFindingResearch/RootFinding/yroots/subdivision.py\u001b[0m in \u001b[0;36msubdivision_solve_1d\u001b[0;34m(f, a, b, cheb_approx_tol, max_degree)\u001b[0m\n\u001b[1;32m    842\u001b[0m     \u001b[0mdiv_length\u001b[0m \u001b[0;34m=\u001b[0m \u001b[0;34m(\u001b[0m\u001b[0mb\u001b[0m\u001b[0;34m-\u001b[0m\u001b[0ma\u001b[0m\u001b[0;34m)\u001b[0m\u001b[0;34m/\u001b[0m\u001b[0;36m2\u001b[0m\u001b[0;34m\u001b[0m\u001b[0m\n\u001b[1;32m    843\u001b[0m     return np.hstack([subdivision_solve_1d(f,a,b-div_length,max_degree=max_degree),\\\n\u001b[0;32m--> 844\u001b[0;31m                       subdivision_solve_1d(f,a+div_length,b,max_degree=max_degree)])\n\u001b[0m",
      "\u001b[0;32m~/Documents/Research/RootFindingResearch/RootFinding/yroots/subdivision.py\u001b[0m in \u001b[0;36msubdivision_solve_1d\u001b[0;34m(f, a, b, cheb_approx_tol, max_degree)\u001b[0m\n\u001b[1;32m    842\u001b[0m     \u001b[0mdiv_length\u001b[0m \u001b[0;34m=\u001b[0m \u001b[0;34m(\u001b[0m\u001b[0mb\u001b[0m\u001b[0;34m-\u001b[0m\u001b[0ma\u001b[0m\u001b[0;34m)\u001b[0m\u001b[0;34m/\u001b[0m\u001b[0;36m2\u001b[0m\u001b[0;34m\u001b[0m\u001b[0m\n\u001b[1;32m    843\u001b[0m     return np.hstack([subdivision_solve_1d(f,a,b-div_length,max_degree=max_degree),\\\n\u001b[0;32m--> 844\u001b[0;31m                       subdivision_solve_1d(f,a+div_length,b,max_degree=max_degree)])\n\u001b[0m",
      "\u001b[0;32m~/Documents/Research/RootFindingResearch/RootFinding/yroots/subdivision.py\u001b[0m in \u001b[0;36msubdivision_solve_1d\u001b[0;34m(f, a, b, cheb_approx_tol, max_degree)\u001b[0m\n\u001b[1;32m    841\u001b[0m     \u001b[0;31m#Subdivide the interval and recursively call the function.\u001b[0m\u001b[0;34m\u001b[0m\u001b[0;34m\u001b[0m\u001b[0m\n\u001b[1;32m    842\u001b[0m     \u001b[0mdiv_length\u001b[0m \u001b[0;34m=\u001b[0m \u001b[0;34m(\u001b[0m\u001b[0mb\u001b[0m\u001b[0;34m-\u001b[0m\u001b[0ma\u001b[0m\u001b[0;34m)\u001b[0m\u001b[0;34m/\u001b[0m\u001b[0;36m2\u001b[0m\u001b[0;34m\u001b[0m\u001b[0m\n\u001b[0;32m--> 843\u001b[0;31m     return np.hstack([subdivision_solve_1d(f,a,b-div_length,max_degree=max_degree),\\\n\u001b[0m\u001b[1;32m    844\u001b[0m                       subdivision_solve_1d(f,a+div_length,b,max_degree=max_degree)])\n",
      "\u001b[0;32m~/Documents/Research/RootFindingResearch/RootFinding/yroots/subdivision.py\u001b[0m in \u001b[0;36msubdivision_solve_1d\u001b[0;34m(f, a, b, cheb_approx_tol, max_degree)\u001b[0m\n\u001b[1;32m    842\u001b[0m     \u001b[0mdiv_length\u001b[0m \u001b[0;34m=\u001b[0m \u001b[0;34m(\u001b[0m\u001b[0mb\u001b[0m\u001b[0;34m-\u001b[0m\u001b[0ma\u001b[0m\u001b[0;34m)\u001b[0m\u001b[0;34m/\u001b[0m\u001b[0;36m2\u001b[0m\u001b[0;34m\u001b[0m\u001b[0m\n\u001b[1;32m    843\u001b[0m     return np.hstack([subdivision_solve_1d(f,a,b-div_length,max_degree=max_degree),\\\n\u001b[0;32m--> 844\u001b[0;31m                       subdivision_solve_1d(f,a+div_length,b,max_degree=max_degree)])\n\u001b[0m",
      "\u001b[0;32m~/Documents/Research/RootFindingResearch/RootFinding/yroots/subdivision.py\u001b[0m in \u001b[0;36msubdivision_solve_1d\u001b[0;34m(f, a, b, cheb_approx_tol, max_degree)\u001b[0m\n\u001b[1;32m    841\u001b[0m     \u001b[0;31m#Subdivide the interval and recursively call the function.\u001b[0m\u001b[0;34m\u001b[0m\u001b[0;34m\u001b[0m\u001b[0m\n\u001b[1;32m    842\u001b[0m     \u001b[0mdiv_length\u001b[0m \u001b[0;34m=\u001b[0m \u001b[0;34m(\u001b[0m\u001b[0mb\u001b[0m\u001b[0;34m-\u001b[0m\u001b[0ma\u001b[0m\u001b[0;34m)\u001b[0m\u001b[0;34m/\u001b[0m\u001b[0;36m2\u001b[0m\u001b[0;34m\u001b[0m\u001b[0m\n\u001b[0;32m--> 843\u001b[0;31m     return np.hstack([subdivision_solve_1d(f,a,b-div_length,max_degree=max_degree),\\\n\u001b[0m\u001b[1;32m    844\u001b[0m                       subdivision_solve_1d(f,a+div_length,b,max_degree=max_degree)])\n",
      "\u001b[0;32m~/Documents/Research/RootFindingResearch/RootFinding/yroots/subdivision.py\u001b[0m in \u001b[0;36msubdivision_solve_1d\u001b[0;34m(f, a, b, cheb_approx_tol, max_degree)\u001b[0m\n\u001b[1;32m    841\u001b[0m     \u001b[0;31m#Subdivide the interval and recursively call the function.\u001b[0m\u001b[0;34m\u001b[0m\u001b[0;34m\u001b[0m\u001b[0m\n\u001b[1;32m    842\u001b[0m     \u001b[0mdiv_length\u001b[0m \u001b[0;34m=\u001b[0m \u001b[0;34m(\u001b[0m\u001b[0mb\u001b[0m\u001b[0;34m-\u001b[0m\u001b[0ma\u001b[0m\u001b[0;34m)\u001b[0m\u001b[0;34m/\u001b[0m\u001b[0;36m2\u001b[0m\u001b[0;34m\u001b[0m\u001b[0m\n\u001b[0;32m--> 843\u001b[0;31m     return np.hstack([subdivision_solve_1d(f,a,b-div_length,max_degree=max_degree),\\\n\u001b[0m\u001b[1;32m    844\u001b[0m                       subdivision_solve_1d(f,a+div_length,b,max_degree=max_degree)])\n",
      "\u001b[0;32m~/Documents/Research/RootFindingResearch/RootFinding/yroots/subdivision.py\u001b[0m in \u001b[0;36msubdivision_solve_1d\u001b[0;34m(f, a, b, cheb_approx_tol, max_degree)\u001b[0m\n\u001b[1;32m    841\u001b[0m     \u001b[0;31m#Subdivide the interval and recursively call the function.\u001b[0m\u001b[0;34m\u001b[0m\u001b[0;34m\u001b[0m\u001b[0m\n\u001b[1;32m    842\u001b[0m     \u001b[0mdiv_length\u001b[0m \u001b[0;34m=\u001b[0m \u001b[0;34m(\u001b[0m\u001b[0mb\u001b[0m\u001b[0;34m-\u001b[0m\u001b[0ma\u001b[0m\u001b[0;34m)\u001b[0m\u001b[0;34m/\u001b[0m\u001b[0;36m2\u001b[0m\u001b[0;34m\u001b[0m\u001b[0m\n\u001b[0;32m--> 843\u001b[0;31m     return np.hstack([subdivision_solve_1d(f,a,b-div_length,max_degree=max_degree),\\\n\u001b[0m\u001b[1;32m    844\u001b[0m                       subdivision_solve_1d(f,a+div_length,b,max_degree=max_degree)])\n",
      "\u001b[0;32m~/Documents/Research/RootFindingResearch/RootFinding/yroots/subdivision.py\u001b[0m in \u001b[0;36msubdivision_solve_1d\u001b[0;34m(f, a, b, cheb_approx_tol, max_degree)\u001b[0m\n\u001b[1;32m    841\u001b[0m     \u001b[0;31m#Subdivide the interval and recursively call the function.\u001b[0m\u001b[0;34m\u001b[0m\u001b[0;34m\u001b[0m\u001b[0m\n\u001b[1;32m    842\u001b[0m     \u001b[0mdiv_length\u001b[0m \u001b[0;34m=\u001b[0m \u001b[0;34m(\u001b[0m\u001b[0mb\u001b[0m\u001b[0;34m-\u001b[0m\u001b[0ma\u001b[0m\u001b[0;34m)\u001b[0m\u001b[0;34m/\u001b[0m\u001b[0;36m2\u001b[0m\u001b[0;34m\u001b[0m\u001b[0m\n\u001b[0;32m--> 843\u001b[0;31m     return np.hstack([subdivision_solve_1d(f,a,b-div_length,max_degree=max_degree),\\\n\u001b[0m\u001b[1;32m    844\u001b[0m                       subdivision_solve_1d(f,a+div_length,b,max_degree=max_degree)])\n",
      "\u001b[0;32m~/Documents/Research/RootFindingResearch/RootFinding/yroots/subdivision.py\u001b[0m in \u001b[0;36msubdivision_solve_1d\u001b[0;34m(f, a, b, cheb_approx_tol, max_degree)\u001b[0m\n\u001b[1;32m    842\u001b[0m     \u001b[0mdiv_length\u001b[0m \u001b[0;34m=\u001b[0m \u001b[0;34m(\u001b[0m\u001b[0mb\u001b[0m\u001b[0;34m-\u001b[0m\u001b[0ma\u001b[0m\u001b[0;34m)\u001b[0m\u001b[0;34m/\u001b[0m\u001b[0;36m2\u001b[0m\u001b[0;34m\u001b[0m\u001b[0m\n\u001b[1;32m    843\u001b[0m     return np.hstack([subdivision_solve_1d(f,a,b-div_length,max_degree=max_degree),\\\n\u001b[0;32m--> 844\u001b[0;31m                       subdivision_solve_1d(f,a+div_length,b,max_degree=max_degree)])\n\u001b[0m",
      "\u001b[0;32m~/Documents/Research/RootFindingResearch/RootFinding/yroots/subdivision.py\u001b[0m in \u001b[0;36msubdivision_solve_1d\u001b[0;34m(f, a, b, cheb_approx_tol, max_degree)\u001b[0m\n\u001b[1;32m    841\u001b[0m     \u001b[0;31m#Subdivide the interval and recursively call the function.\u001b[0m\u001b[0;34m\u001b[0m\u001b[0;34m\u001b[0m\u001b[0m\n\u001b[1;32m    842\u001b[0m     \u001b[0mdiv_length\u001b[0m \u001b[0;34m=\u001b[0m \u001b[0;34m(\u001b[0m\u001b[0mb\u001b[0m\u001b[0;34m-\u001b[0m\u001b[0ma\u001b[0m\u001b[0;34m)\u001b[0m\u001b[0;34m/\u001b[0m\u001b[0;36m2\u001b[0m\u001b[0;34m\u001b[0m\u001b[0m\n\u001b[0;32m--> 843\u001b[0;31m     return np.hstack([subdivision_solve_1d(f,a,b-div_length,max_degree=max_degree),\\\n\u001b[0m\u001b[1;32m    844\u001b[0m                       subdivision_solve_1d(f,a+div_length,b,max_degree=max_degree)])\n",
      "\u001b[0;32m~/Documents/Research/RootFindingResearch/RootFinding/yroots/subdivision.py\u001b[0m in \u001b[0;36msubdivision_solve_1d\u001b[0;34m(f, a, b, cheb_approx_tol, max_degree)\u001b[0m\n\u001b[1;32m    841\u001b[0m     \u001b[0;31m#Subdivide the interval and recursively call the function.\u001b[0m\u001b[0;34m\u001b[0m\u001b[0;34m\u001b[0m\u001b[0m\n\u001b[1;32m    842\u001b[0m     \u001b[0mdiv_length\u001b[0m \u001b[0;34m=\u001b[0m \u001b[0;34m(\u001b[0m\u001b[0mb\u001b[0m\u001b[0;34m-\u001b[0m\u001b[0ma\u001b[0m\u001b[0;34m)\u001b[0m\u001b[0;34m/\u001b[0m\u001b[0;36m2\u001b[0m\u001b[0;34m\u001b[0m\u001b[0m\n\u001b[0;32m--> 843\u001b[0;31m     return np.hstack([subdivision_solve_1d(f,a,b-div_length,max_degree=max_degree),\\\n\u001b[0m\u001b[1;32m    844\u001b[0m                       subdivision_solve_1d(f,a+div_length,b,max_degree=max_degree)])\n",
      "\u001b[0;32m~/Documents/Research/RootFindingResearch/RootFinding/yroots/subdivision.py\u001b[0m in \u001b[0;36msubdivision_solve_1d\u001b[0;34m(f, a, b, cheb_approx_tol, max_degree)\u001b[0m\n\u001b[1;32m    842\u001b[0m     \u001b[0mdiv_length\u001b[0m \u001b[0;34m=\u001b[0m \u001b[0;34m(\u001b[0m\u001b[0mb\u001b[0m\u001b[0;34m-\u001b[0m\u001b[0ma\u001b[0m\u001b[0;34m)\u001b[0m\u001b[0;34m/\u001b[0m\u001b[0;36m2\u001b[0m\u001b[0;34m\u001b[0m\u001b[0m\n\u001b[1;32m    843\u001b[0m     return np.hstack([subdivision_solve_1d(f,a,b-div_length,max_degree=max_degree),\\\n\u001b[0;32m--> 844\u001b[0;31m                       subdivision_solve_1d(f,a+div_length,b,max_degree=max_degree)])\n\u001b[0m",
      "\u001b[0;32m~/Documents/Research/RootFindingResearch/RootFinding/yroots/subdivision.py\u001b[0m in \u001b[0;36msubdivision_solve_1d\u001b[0;34m(f, a, b, cheb_approx_tol, max_degree)\u001b[0m\n\u001b[1;32m    842\u001b[0m     \u001b[0mdiv_length\u001b[0m \u001b[0;34m=\u001b[0m \u001b[0;34m(\u001b[0m\u001b[0mb\u001b[0m\u001b[0;34m-\u001b[0m\u001b[0ma\u001b[0m\u001b[0;34m)\u001b[0m\u001b[0;34m/\u001b[0m\u001b[0;36m2\u001b[0m\u001b[0;34m\u001b[0m\u001b[0m\n\u001b[1;32m    843\u001b[0m     return np.hstack([subdivision_solve_1d(f,a,b-div_length,max_degree=max_degree),\\\n\u001b[0;32m--> 844\u001b[0;31m                       subdivision_solve_1d(f,a+div_length,b,max_degree=max_degree)])\n\u001b[0m",
      "\u001b[0;32m~/Documents/Research/RootFindingResearch/RootFinding/yroots/subdivision.py\u001b[0m in \u001b[0;36msubdivision_solve_1d\u001b[0;34m(f, a, b, cheb_approx_tol, max_degree)\u001b[0m\n\u001b[1;32m    842\u001b[0m     \u001b[0mdiv_length\u001b[0m \u001b[0;34m=\u001b[0m \u001b[0;34m(\u001b[0m\u001b[0mb\u001b[0m\u001b[0;34m-\u001b[0m\u001b[0ma\u001b[0m\u001b[0;34m)\u001b[0m\u001b[0;34m/\u001b[0m\u001b[0;36m2\u001b[0m\u001b[0;34m\u001b[0m\u001b[0m\n\u001b[1;32m    843\u001b[0m     return np.hstack([subdivision_solve_1d(f,a,b-div_length,max_degree=max_degree),\\\n\u001b[0;32m--> 844\u001b[0;31m                       subdivision_solve_1d(f,a+div_length,b,max_degree=max_degree)])\n\u001b[0m",
      "\u001b[0;32m~/Documents/Research/RootFindingResearch/RootFinding/yroots/subdivision.py\u001b[0m in \u001b[0;36msubdivision_solve_1d\u001b[0;34m(f, a, b, cheb_approx_tol, max_degree)\u001b[0m\n\u001b[1;32m    841\u001b[0m     \u001b[0;31m#Subdivide the interval and recursively call the function.\u001b[0m\u001b[0;34m\u001b[0m\u001b[0;34m\u001b[0m\u001b[0m\n\u001b[1;32m    842\u001b[0m     \u001b[0mdiv_length\u001b[0m \u001b[0;34m=\u001b[0m \u001b[0;34m(\u001b[0m\u001b[0mb\u001b[0m\u001b[0;34m-\u001b[0m\u001b[0ma\u001b[0m\u001b[0;34m)\u001b[0m\u001b[0;34m/\u001b[0m\u001b[0;36m2\u001b[0m\u001b[0;34m\u001b[0m\u001b[0m\n\u001b[0;32m--> 843\u001b[0;31m     return np.hstack([subdivision_solve_1d(f,a,b-div_length,max_degree=max_degree),\\\n\u001b[0m\u001b[1;32m    844\u001b[0m                       subdivision_solve_1d(f,a+div_length,b,max_degree=max_degree)])\n",
      "\u001b[0;32m~/Documents/Research/RootFindingResearch/RootFinding/yroots/subdivision.py\u001b[0m in \u001b[0;36msubdivision_solve_1d\u001b[0;34m(f, a, b, cheb_approx_tol, max_degree)\u001b[0m\n\u001b[1;32m    842\u001b[0m     \u001b[0mdiv_length\u001b[0m \u001b[0;34m=\u001b[0m \u001b[0;34m(\u001b[0m\u001b[0mb\u001b[0m\u001b[0;34m-\u001b[0m\u001b[0ma\u001b[0m\u001b[0;34m)\u001b[0m\u001b[0;34m/\u001b[0m\u001b[0;36m2\u001b[0m\u001b[0;34m\u001b[0m\u001b[0m\n\u001b[1;32m    843\u001b[0m     return np.hstack([subdivision_solve_1d(f,a,b-div_length,max_degree=max_degree),\\\n\u001b[0;32m--> 844\u001b[0;31m                       subdivision_solve_1d(f,a+div_length,b,max_degree=max_degree)])\n\u001b[0m",
      "\u001b[0;32m~/Documents/Research/RootFindingResearch/RootFinding/yroots/subdivision.py\u001b[0m in \u001b[0;36msubdivision_solve_1d\u001b[0;34m(f, a, b, cheb_approx_tol, max_degree)\u001b[0m\n\u001b[1;32m    842\u001b[0m     \u001b[0mdiv_length\u001b[0m \u001b[0;34m=\u001b[0m \u001b[0;34m(\u001b[0m\u001b[0mb\u001b[0m\u001b[0;34m-\u001b[0m\u001b[0ma\u001b[0m\u001b[0;34m)\u001b[0m\u001b[0;34m/\u001b[0m\u001b[0;36m2\u001b[0m\u001b[0;34m\u001b[0m\u001b[0m\n\u001b[1;32m    843\u001b[0m     return np.hstack([subdivision_solve_1d(f,a,b-div_length,max_degree=max_degree),\\\n\u001b[0;32m--> 844\u001b[0;31m                       subdivision_solve_1d(f,a+div_length,b,max_degree=max_degree)])\n\u001b[0m",
      "\u001b[0;32m~/Documents/Research/RootFindingResearch/RootFinding/yroots/subdivision.py\u001b[0m in \u001b[0;36msubdivision_solve_1d\u001b[0;34m(f, a, b, cheb_approx_tol, max_degree)\u001b[0m\n\u001b[1;32m    841\u001b[0m     \u001b[0;31m#Subdivide the interval and recursively call the function.\u001b[0m\u001b[0;34m\u001b[0m\u001b[0;34m\u001b[0m\u001b[0m\n\u001b[1;32m    842\u001b[0m     \u001b[0mdiv_length\u001b[0m \u001b[0;34m=\u001b[0m \u001b[0;34m(\u001b[0m\u001b[0mb\u001b[0m\u001b[0;34m-\u001b[0m\u001b[0ma\u001b[0m\u001b[0;34m)\u001b[0m\u001b[0;34m/\u001b[0m\u001b[0;36m2\u001b[0m\u001b[0;34m\u001b[0m\u001b[0m\n\u001b[0;32m--> 843\u001b[0;31m     return np.hstack([subdivision_solve_1d(f,a,b-div_length,max_degree=max_degree),\\\n\u001b[0m\u001b[1;32m    844\u001b[0m                       subdivision_solve_1d(f,a+div_length,b,max_degree=max_degree)])\n",
      "\u001b[0;32m~/Documents/Research/RootFindingResearch/RootFinding/yroots/subdivision.py\u001b[0m in \u001b[0;36msubdivision_solve_1d\u001b[0;34m(f, a, b, cheb_approx_tol, max_degree)\u001b[0m\n\u001b[1;32m    842\u001b[0m     \u001b[0mdiv_length\u001b[0m \u001b[0;34m=\u001b[0m \u001b[0;34m(\u001b[0m\u001b[0mb\u001b[0m\u001b[0;34m-\u001b[0m\u001b[0ma\u001b[0m\u001b[0;34m)\u001b[0m\u001b[0;34m/\u001b[0m\u001b[0;36m2\u001b[0m\u001b[0;34m\u001b[0m\u001b[0m\n\u001b[1;32m    843\u001b[0m     return np.hstack([subdivision_solve_1d(f,a,b-div_length,max_degree=max_degree),\\\n\u001b[0;32m--> 844\u001b[0;31m                       subdivision_solve_1d(f,a+div_length,b,max_degree=max_degree)])\n\u001b[0m",
      "\u001b[0;32m~/Documents/Research/RootFindingResearch/RootFinding/yroots/subdivision.py\u001b[0m in \u001b[0;36msubdivision_solve_1d\u001b[0;34m(f, a, b, cheb_approx_tol, max_degree)\u001b[0m\n\u001b[1;32m    842\u001b[0m     \u001b[0mdiv_length\u001b[0m \u001b[0;34m=\u001b[0m \u001b[0;34m(\u001b[0m\u001b[0mb\u001b[0m\u001b[0;34m-\u001b[0m\u001b[0ma\u001b[0m\u001b[0;34m)\u001b[0m\u001b[0;34m/\u001b[0m\u001b[0;36m2\u001b[0m\u001b[0;34m\u001b[0m\u001b[0m\n\u001b[1;32m    843\u001b[0m     return np.hstack([subdivision_solve_1d(f,a,b-div_length,max_degree=max_degree),\\\n\u001b[0;32m--> 844\u001b[0;31m                       subdivision_solve_1d(f,a+div_length,b,max_degree=max_degree)])\n\u001b[0m",
      "\u001b[0;32m~/Documents/Research/RootFindingResearch/RootFinding/yroots/subdivision.py\u001b[0m in \u001b[0;36msubdivision_solve_1d\u001b[0;34m(f, a, b, cheb_approx_tol, max_degree)\u001b[0m\n\u001b[1;32m    826\u001b[0m     \u001b[0;32mwhile\u001b[0m \u001b[0mcur_deg\u001b[0m\u001b[0;34m<=\u001b[0m\u001b[0mmax_degree\u001b[0m\u001b[0;34m:\u001b[0m\u001b[0;34m\u001b[0m\u001b[0m\n\u001b[1;32m    827\u001b[0m         \u001b[0mcoeffsN\u001b[0m \u001b[0;34m=\u001b[0m \u001b[0mnp\u001b[0m\u001b[0;34m.\u001b[0m\u001b[0mzeros\u001b[0m\u001b[0;34m(\u001b[0m\u001b[0;36m2\u001b[0m\u001b[0;34m*\u001b[0m\u001b[0mcur_deg\u001b[0m\u001b[0;34m+\u001b[0m\u001b[0;36m1\u001b[0m\u001b[0;34m)\u001b[0m\u001b[0;34m\u001b[0m\u001b[0m\n\u001b[0;32m--> 828\u001b[0;31m         \u001b[0mcoeffsN\u001b[0m\u001b[0;34m[\u001b[0m\u001b[0;34m:\u001b[0m\u001b[0mcur_deg\u001b[0m\u001b[0;34m+\u001b[0m\u001b[0;36m1\u001b[0m\u001b[0;34m]\u001b[0m \u001b[0;34m=\u001b[0m \u001b[0minitial_approx\u001b[0m\u001b[0;34m\u001b[0m\u001b[0m\n\u001b[0m\u001b[1;32m    829\u001b[0m         \u001b[0mcoeffs2N\u001b[0m \u001b[0;34m=\u001b[0m \u001b[0minterval_approximate_1d\u001b[0m\u001b[0;34m(\u001b[0m\u001b[0mf\u001b[0m\u001b[0;34m,\u001b[0m\u001b[0ma\u001b[0m\u001b[0;34m,\u001b[0m\u001b[0mb\u001b[0m\u001b[0;34m,\u001b[0m\u001b[0mdeg\u001b[0m \u001b[0;34m=\u001b[0m \u001b[0;36m2\u001b[0m\u001b[0;34m*\u001b[0m\u001b[0mcur_deg\u001b[0m\u001b[0;34m)\u001b[0m\u001b[0;34m\u001b[0m\u001b[0m\n\u001b[1;32m    830\u001b[0m         \u001b[0;31m#Check if the approximation is good enough\u001b[0m\u001b[0;34m\u001b[0m\u001b[0;34m\u001b[0m\u001b[0m\n",
      "\u001b[0;31mKeyboardInterrupt\u001b[0m: "
     ]
    }
   ],
   "source": [
    "yr.solve([w],0,25)"
   ]
  }
 ],
 "metadata": {
  "kernelspec": {
   "display_name": "Python 3",
   "language": "python",
   "name": "python3"
  },
  "language_info": {
   "codemirror_mode": {
    "name": "ipython",
    "version": 3
   },
   "file_extension": ".py",
   "mimetype": "text/x-python",
   "name": "python",
   "nbconvert_exporter": "python",
   "pygments_lexer": "ipython3",
   "version": "3.6.8"
  },
  "varInspector": {
   "cols": {
    "lenName": 16,
    "lenType": 16,
    "lenVar": 40
   },
   "kernels_config": {
    "python": {
     "delete_cmd_postfix": "",
     "delete_cmd_prefix": "del ",
     "library": "var_list.py",
     "varRefreshCmd": "print(var_dic_list())"
    },
    "r": {
     "delete_cmd_postfix": ") ",
     "delete_cmd_prefix": "rm(",
     "library": "var_list.r",
     "varRefreshCmd": "cat(var_dic_list()) "
    }
   },
   "types_to_exclude": [
    "module",
    "function",
    "builtin_function_or_method",
    "instance",
    "_Feature"
   ],
   "window_display": false
  }
 },
 "nbformat": 4,
 "nbformat_minor": 2
}
